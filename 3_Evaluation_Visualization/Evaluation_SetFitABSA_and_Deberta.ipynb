{
 "cells": [
  {
   "cell_type": "markdown",
   "id": "cae8047f-8539-4527-b24f-0aa1844ab8e2",
   "metadata": {},
   "source": [
    "# Evaluation of SetFitABSA and Deberta Models\n",
    "\n",
    "Summarization of results from manual evaluation and Comparison of results between SetFitABSA and Deberta models aspect based sentiment analysis"
   ]
  },
  {
   "cell_type": "code",
   "execution_count": 1,
   "id": "4d057016-fa6b-4289-92af-ccf083e8098d",
   "metadata": {},
   "outputs": [],
   "source": [
    "# Load the libraries\n",
    "\n",
    "import pandas as pd\n",
    "import plotly.express as px\n",
    "\n",
    "import warnings\n",
    "warnings.filterwarnings(\"ignore\")"
   ]
  },
  {
   "cell_type": "markdown",
   "id": "c7e133ec-3585-4655-881d-6c7e960764a5",
   "metadata": {},
   "source": [
    "## Evaluation of Deberta Model results\n",
    "\n",
    "Here we are synthesizing the results from the Deberta model along with the manual evaluation done on 100 random samples"
   ]
  },
  {
   "cell_type": "code",
   "execution_count": 2,
   "id": "8daa1976-2840-4f3f-b120-3d335f0389a4",
   "metadata": {},
   "outputs": [
    {
     "data": {
      "text/html": [
       "<div>\n",
       "<style scoped>\n",
       "    .dataframe tbody tr th:only-of-type {\n",
       "        vertical-align: middle;\n",
       "    }\n",
       "\n",
       "    .dataframe tbody tr th {\n",
       "        vertical-align: top;\n",
       "    }\n",
       "\n",
       "    .dataframe thead th {\n",
       "        text-align: right;\n",
       "    }\n",
       "</style>\n",
       "<table border=\"1\" class=\"dataframe\">\n",
       "  <thead>\n",
       "    <tr style=\"text-align: right;\">\n",
       "      <th></th>\n",
       "      <th>business_id</th>\n",
       "      <th>review_id</th>\n",
       "      <th>Label</th>\n",
       "      <th>Score</th>\n",
       "      <th>Aspect</th>\n",
       "      <th>Reviews</th>\n",
       "      <th>Model Label</th>\n",
       "      <th>Manual Label</th>\n",
       "    </tr>\n",
       "  </thead>\n",
       "  <tbody>\n",
       "    <tr>\n",
       "      <th>0</th>\n",
       "      <td>Ifw5wqcChnL4zBigtR7NKA</td>\n",
       "      <td>_WilyI_mvxoVBoHn7crnCQ</td>\n",
       "      <td>Negative</td>\n",
       "      <td>0.631905</td>\n",
       "      <td>Space</td>\n",
       "      <td>Super disappointed in this place! Their servic...</td>\n",
       "      <td>Neutral</td>\n",
       "      <td>Neutral</td>\n",
       "    </tr>\n",
       "  </tbody>\n",
       "</table>\n",
       "</div>"
      ],
      "text/plain": [
       "              business_id               review_id     Label     Score Aspect  \\\n",
       "0  Ifw5wqcChnL4zBigtR7NKA  _WilyI_mvxoVBoHn7crnCQ  Negative  0.631905  Space   \n",
       "\n",
       "                                             Reviews Model Label Manual Label  \n",
       "0  Super disappointed in this place! Their servic...     Neutral      Neutral  "
      ]
     },
     "execution_count": 2,
     "metadata": {},
     "output_type": "execute_result"
    }
   ],
   "source": [
    "# Read the data set which includes both manual evaluated results and the model labeled results\n",
    "deberta_eval_df = pd.read_csv('../../data/evaluation_datasets/deberta_manual_eval.csv')\n",
    "\n",
    "# let's look at the top row. For a given aspect, if the confidence score is under 0.7 then model lable is set to neutral. \n",
    "# If the confidence score is more than 0.7 then the model label is set to the 'Label' column\n",
    "# In the row that is printed below, given that the confidence score is under 0.7, the model label is 'Neutral'\n",
    "deberta_eval_df.head(1)"
   ]
  },
  {
   "cell_type": "code",
   "execution_count": 3,
   "id": "25bc44fe-a7f4-4b67-afab-c192d28fad2e",
   "metadata": {},
   "outputs": [
    {
     "data": {
      "text/html": [
       "<div>\n",
       "<style scoped>\n",
       "    .dataframe tbody tr th:only-of-type {\n",
       "        vertical-align: middle;\n",
       "    }\n",
       "\n",
       "    .dataframe tbody tr th {\n",
       "        vertical-align: top;\n",
       "    }\n",
       "\n",
       "    .dataframe thead th {\n",
       "        text-align: right;\n",
       "    }\n",
       "</style>\n",
       "<table border=\"1\" class=\"dataframe\">\n",
       "  <thead>\n",
       "    <tr style=\"text-align: right;\">\n",
       "      <th>Manual Label</th>\n",
       "      <th>Negative</th>\n",
       "      <th>Neutral</th>\n",
       "      <th>Positive</th>\n",
       "    </tr>\n",
       "    <tr>\n",
       "      <th>Model Label</th>\n",
       "      <th></th>\n",
       "      <th></th>\n",
       "      <th></th>\n",
       "    </tr>\n",
       "  </thead>\n",
       "  <tbody>\n",
       "    <tr>\n",
       "      <th>Negative</th>\n",
       "      <td>11.0</td>\n",
       "      <td>1.0</td>\n",
       "      <td>0.0</td>\n",
       "    </tr>\n",
       "    <tr>\n",
       "      <th>Neutral</th>\n",
       "      <td>3.0</td>\n",
       "      <td>14.0</td>\n",
       "      <td>5.0</td>\n",
       "    </tr>\n",
       "    <tr>\n",
       "      <th>Positive</th>\n",
       "      <td>0.0</td>\n",
       "      <td>11.0</td>\n",
       "      <td>55.0</td>\n",
       "    </tr>\n",
       "  </tbody>\n",
       "</table>\n",
       "</div>"
      ],
      "text/plain": [
       "Manual Label  Negative  Neutral  Positive\n",
       "Model Label                              \n",
       "Negative          11.0      1.0       0.0\n",
       "Neutral            3.0     14.0       5.0\n",
       "Positive           0.0     11.0      55.0"
      ]
     },
     "execution_count": 3,
     "metadata": {},
     "output_type": "execute_result"
    }
   ],
   "source": [
    "# Group the dataframe to create a confusion matrix with model label and manual label\n",
    "deberta_eval_gp = deberta_eval_df.groupby(['Model Label','Manual Label'])['review_id'].count().reset_index()\n",
    "deberta_eval_gp = deberta_eval_gp.pivot(index='Model Label', columns='Manual Label')['review_id'].fillna(0)\n",
    "\n",
    "deberta_eval_gp "
   ]
  },
  {
   "cell_type": "code",
   "execution_count": 4,
   "id": "15fd6ae0-45a2-466c-9e44-c3c713c87917",
   "metadata": {},
   "outputs": [
    {
     "data": {
      "image/png": "[encoded data removed]"
     },
     "metadata": {},
     "output_type": "display_data"
    }
   ],
   "source": [
    "# Showing the image using Plotly express heatmap\n",
    "fig = px.imshow(deberta_eval_gp, x=deberta_eval_gp.columns, y=deberta_eval_gp.index, \\\n",
    "                color_continuous_scale=px.colors.sequential.Greens, text_auto=True)\n",
    "fig.update_layout(width=500,height=500)\n",
    "fig.show(\"png\")"
   ]
  },
  {
   "cell_type": "code",
   "execution_count": 5,
   "id": "207222f3-a419-407a-8c94-113b9c3ecece",
   "metadata": {},
   "outputs": [
    {
     "name": "stdout",
     "output_type": "stream",
     "text": [
      "Accuracy of the model (based on manual evaluation): 80.0%\n"
     ]
    }
   ],
   "source": [
    "# Let's print the accuracy \n",
    "deberta_accuracy = deberta_eval_df[deberta_eval_df['Model Label']==deberta_eval_df['Manual Label']]['review_id'].count()/\\\n",
    "            deberta_eval_df['review_id'].count()\n",
    "\n",
    "print('Accuracy of the model (based on manual evaluation):', format(deberta_accuracy, \".1%\"))"
   ]
  },
  {
   "cell_type": "markdown",
   "id": "642f235d-147a-4b3c-9021-6d971eac3ab0",
   "metadata": {},
   "source": [
    "## Evaluation of SetFit ABSA Model results\n",
    "\n",
    "Here we are synthesizing the results from the SetFit ABSA model along with the manual evaluation done on 100 random samples"
   ]
  },
  {
   "cell_type": "code",
   "execution_count": 6,
   "id": "7e85b15a-dc55-4323-a6e0-804bea4511ee",
   "metadata": {},
   "outputs": [
    {
     "data": {
      "text/html": [
       "<div>\n",
       "<style scoped>\n",
       "    .dataframe tbody tr th:only-of-type {\n",
       "        vertical-align: middle;\n",
       "    }\n",
       "\n",
       "    .dataframe tbody tr th {\n",
       "        vertical-align: top;\n",
       "    }\n",
       "\n",
       "    .dataframe thead th {\n",
       "        text-align: right;\n",
       "    }\n",
       "</style>\n",
       "<table border=\"1\" class=\"dataframe\">\n",
       "  <thead>\n",
       "    <tr style=\"text-align: right;\">\n",
       "      <th></th>\n",
       "      <th>review_id</th>\n",
       "      <th>user_id</th>\n",
       "      <th>business_id</th>\n",
       "      <th>has_aspects_manual_label</th>\n",
       "      <th>aspects_extracted_model_label</th>\n",
       "      <th>aspect</th>\n",
       "      <th>Model Label</th>\n",
       "      <th>Manual Label</th>\n",
       "      <th>is_actual_restaurant</th>\n",
       "    </tr>\n",
       "  </thead>\n",
       "  <tbody>\n",
       "    <tr>\n",
       "      <th>0</th>\n",
       "      <td>b_mLN6YOXK50s9id9vA6og</td>\n",
       "      <td>YtDiXgpiP0d5zDmtMEUOow</td>\n",
       "      <td>KC8_Rx4Orlsz8LIonCYXsA</td>\n",
       "      <td>Y</td>\n",
       "      <td>Y</td>\n",
       "      <td>food</td>\n",
       "      <td>positive</td>\n",
       "      <td>positive</td>\n",
       "      <td>Y</td>\n",
       "    </tr>\n",
       "  </tbody>\n",
       "</table>\n",
       "</div>"
      ],
      "text/plain": [
       "                review_id                 user_id             business_id  \\\n",
       "0  b_mLN6YOXK50s9id9vA6og  YtDiXgpiP0d5zDmtMEUOow  KC8_Rx4Orlsz8LIonCYXsA   \n",
       "\n",
       "  has_aspects_manual_label aspects_extracted_model_label aspect Model Label  \\\n",
       "0                        Y                             Y   food    positive   \n",
       "\n",
       "  Manual Label is_actual_restaurant  \n",
       "0     positive                    Y  "
      ]
     },
     "execution_count": 6,
     "metadata": {},
     "output_type": "execute_result"
    }
   ],
   "source": [
    "# Read the data set which includes both manual evaluated results and the model labeled results\n",
    "setfit_absa_eval_df = pd.read_csv('../../data/evaluation_datasets/SetFit_ABSA_manual_eval.csv')\n",
    "\n",
    "# let's look at the top row. For a given aspect, 'aspects_extracted_model_label' shows if the model mentioned there were aspects \n",
    "# and 'has_aspects_manual_label' is a field which is manually labelled and it captures if aspects were extracted correctly\n",
    "# by the model. There is Model label and Manual label which captures the sentiment for the aspect which was specified by the model\n",
    "# and the one manually label by us\n",
    "\n",
    "setfit_absa_eval_df.head(1)"
   ]
  },
  {
   "cell_type": "markdown",
   "id": "25d7b67e-81bd-4a86-b1b8-ffd1fdb11d38",
   "metadata": {},
   "source": [
    "### Evaluating if Aspects were extracted when they were present"
   ]
  },
  {
   "cell_type": "markdown",
   "id": "a40f35b6-edf3-424b-88f3-5036591ee718",
   "metadata": {},
   "source": [
    "Let's first look at if aspects were extracted when they were present and we will use confusion matrix for the same"
   ]
  },
  {
   "cell_type": "code",
   "execution_count": 7,
   "id": "1cc967ec-67a8-4e36-bfe8-5555bdae6d46",
   "metadata": {},
   "outputs": [],
   "source": [
    "# Group the dataframe to create a confusion matrix with model label and manual label\n",
    "setfit_absa_aspect_eval_gp = setfit_absa_eval_df.groupby(['has_aspects_manual_label','aspects_extracted_model_label'])\\\n",
    "                                                            ['review_id'].count().reset_index()\n",
    "\n",
    "setfit_absa_aspect_eval_gp = setfit_absa_aspect_eval_gp.pivot(index='has_aspects_manual_label', \\\n",
    "                                                              columns='aspects_extracted_model_label')['review_id'].fillna(0)"
   ]
  },
  {
   "cell_type": "code",
   "execution_count": 8,
   "id": "7870dac0-62f6-4493-8e06-5e2b825e35de",
   "metadata": {},
   "outputs": [
    {
     "data": {
      "image/png": "[encoded data removed]"
     },
     "metadata": {},
     "output_type": "display_data"
    }
   ],
   "source": [
    "# Showing the image using Plotly express heatmap\n",
    "fig = px.imshow(setfit_absa_aspect_eval_gp, x = setfit_absa_aspect_eval_gp.columns, y = setfit_absa_aspect_eval_gp.index, \\\n",
    "                color_continuous_scale=px.colors.sequential.Greens, text_auto=True)\n",
    "\n",
    "fig.update_layout(width=500,height=500)\n",
    "\n",
    "fig.show(\"png\")"
   ]
  },
  {
   "cell_type": "code",
   "execution_count": 9,
   "id": "464e195e-4a27-4e03-a010-e6a69b92dca6",
   "metadata": {},
   "outputs": [
    {
     "name": "stdout",
     "output_type": "stream",
     "text": [
      "Accuracy of the Setfit ABSA model (to ): 50.5%\n"
     ]
    }
   ],
   "source": [
    "# Let's print the accuracy \n",
    "setfit_absa_aspect_accuracy = setfit_absa_eval_df[setfit_absa_eval_df['has_aspects_manual_label']==setfit_absa_eval_df['aspects_extracted_model_label']]\\\n",
    "                                    ['review_id'].count()/setfit_absa_eval_df['review_id'].count()\n",
    "\n",
    "print('Accuracy of the Setfit ABSA model (to ):', format(setfit_absa_aspect_accuracy, \".1%\"))"
   ]
  },
  {
   "cell_type": "markdown",
   "id": "2d0d3d8d-929f-42a2-bba0-f4137b122bca",
   "metadata": {},
   "source": [
    "### Evaluating if Aspects extracted were correct"
   ]
  },
  {
   "cell_type": "code",
   "execution_count": 10,
   "id": "31f63c66-0982-4e67-986c-0ca1b195a3b4",
   "metadata": {},
   "outputs": [],
   "source": [
    "# Let's create a filtered data set which only includes reviews with aspect and sentiment when aspect was extract \n",
    "# by the model in cases when it was present \n",
    "filtered_setfit_absa_df = setfit_absa_eval_df[(setfit_absa_eval_df['has_aspects_manual_label']=='Y') & \\\n",
    "                            (setfit_absa_eval_df['aspects_extracted_model_label']=='Y')]"
   ]
  },
  {
   "cell_type": "code",
   "execution_count": 11,
   "id": "b54058ac-f2fc-4f6f-b4a2-662df6cdbd11",
   "metadata": {},
   "outputs": [],
   "source": [
    "# Group the dataframe to create a confusion matrix with model label and manual label\n",
    "setfit_absa_eval_gp = filtered_setfit_absa_df.groupby(['Model Label','Manual Label'])\\\n",
    "                            ['review_id'].count().reset_index()\n",
    "\n",
    "setfit_absa_eval_gp = setfit_absa_eval_gp.pivot(index='Model Label', columns='Manual Label')['review_id'].fillna(0)"
   ]
  },
  {
   "cell_type": "code",
   "execution_count": 12,
   "id": "76db9f50-d1aa-42cd-87a4-b980439b1382",
   "metadata": {},
   "outputs": [
    {
     "data": {
      "image/png": "[encoded data removed]"
     },
     "metadata": {},
     "output_type": "display_data"
    }
   ],
   "source": [
    "# Showing the image using Plotly express heatmap\n",
    "fig = px.imshow(setfit_absa_eval_gp, x = setfit_absa_eval_gp.columns, y = setfit_absa_eval_gp.index, \\\n",
    "                color_continuous_scale=px.colors.sequential.Greens, text_auto=True)\n",
    "\n",
    "fig.update_layout(width=500,height=500)\n",
    "\n",
    "fig.show(\"png\")"
   ]
  },
  {
   "cell_type": "code",
   "execution_count": 13,
   "id": "86e00b0b-845b-44bb-b76e-d7e4b8a2b49a",
   "metadata": {},
   "outputs": [
    {
     "name": "stdout",
     "output_type": "stream",
     "text": [
      "Accuracy of the Setfit ABSA model (based on manual evaluation): 64.3%\n"
     ]
    }
   ],
   "source": [
    "# Let's print the accuracy \n",
    "setfit_absa_accuracy = filtered_setfit_absa_df[filtered_setfit_absa_df['Model Label']==filtered_setfit_absa_df['Manual Label']]['review_id'].count()/\\\n",
    "            filtered_setfit_absa_df['review_id'].count()\n",
    "\n",
    "print('Accuracy of the Setfit ABSA model (based on manual evaluation):', format(setfit_absa_accuracy, \".1%\"))"
   ]
  },
  {
   "cell_type": "markdown",
   "id": "30ea5a27-32e6-4644-9c68-9a1a99688f31",
   "metadata": {},
   "source": [
    "## Comparison of results between SetFit ABSA and Deberta models"
   ]
  },
  {
   "cell_type": "markdown",
   "id": "55f8a826-6b0a-4e44-8d58-f638a2f04bc3",
   "metadata": {},
   "source": [
    "Now that we have evaluated results from SetFit ABSA and Deberta models, let's compare the results between the two"
   ]
  },
  {
   "cell_type": "code",
   "execution_count": 14,
   "id": "2e5ea9f0-72f4-46ce-839d-35e06ce7e335",
   "metadata": {},
   "outputs": [
    {
     "data": {
      "text/html": [
       "<div>\n",
       "<style scoped>\n",
       "    .dataframe tbody tr th:only-of-type {\n",
       "        vertical-align: middle;\n",
       "    }\n",
       "\n",
       "    .dataframe tbody tr th {\n",
       "        vertical-align: top;\n",
       "    }\n",
       "\n",
       "    .dataframe thead th {\n",
       "        text-align: right;\n",
       "    }\n",
       "</style>\n",
       "<table border=\"1\" class=\"dataframe\">\n",
       "  <thead>\n",
       "    <tr style=\"text-align: right;\">\n",
       "      <th></th>\n",
       "      <th>Unnamed: 0.2</th>\n",
       "      <th>index</th>\n",
       "      <th>Unnamed: 0.1</th>\n",
       "      <th>Unnamed: 0</th>\n",
       "      <th>review_id</th>\n",
       "      <th>user_id</th>\n",
       "      <th>business_id</th>\n",
       "      <th>stars_x</th>\n",
       "      <th>useful</th>\n",
       "      <th>funny</th>\n",
       "      <th>...</th>\n",
       "      <th>weather</th>\n",
       "      <th>services</th>\n",
       "      <th>environment</th>\n",
       "      <th>food atmosphere</th>\n",
       "      <th>family atmosphere</th>\n",
       "      <th>experiences</th>\n",
       "      <th>food quality way</th>\n",
       "      <th>seating area</th>\n",
       "      <th>scenery</th>\n",
       "      <th>price</th>\n",
       "    </tr>\n",
       "  </thead>\n",
       "  <tbody>\n",
       "    <tr>\n",
       "      <th>0</th>\n",
       "      <td>0</td>\n",
       "      <td>0</td>\n",
       "      <td>18</td>\n",
       "      <td>1393</td>\n",
       "      <td>K-2es_s2Yc7hIiIrRD5W7w</td>\n",
       "      <td>2l0O1EI1m0yWjFo2zSt71w</td>\n",
       "      <td>gebiRewfieSdtt17PTW6Zg</td>\n",
       "      <td>4</td>\n",
       "      <td>0</td>\n",
       "      <td>0</td>\n",
       "      <td>...</td>\n",
       "      <td>NaN</td>\n",
       "      <td>NaN</td>\n",
       "      <td>NaN</td>\n",
       "      <td>NaN</td>\n",
       "      <td>NaN</td>\n",
       "      <td>NaN</td>\n",
       "      <td>NaN</td>\n",
       "      <td>NaN</td>\n",
       "      <td>NaN</td>\n",
       "      <td>NaN</td>\n",
       "    </tr>\n",
       "  </tbody>\n",
       "</table>\n",
       "<p>1 rows × 50 columns</p>\n",
       "</div>"
      ],
      "text/plain": [
       "   Unnamed: 0.2  index  Unnamed: 0.1  Unnamed: 0               review_id  \\\n",
       "0             0      0            18        1393  K-2es_s2Yc7hIiIrRD5W7w   \n",
       "\n",
       "                  user_id             business_id  stars_x  useful  funny  \\\n",
       "0  2l0O1EI1m0yWjFo2zSt71w  gebiRewfieSdtt17PTW6Zg        4       0      0   \n",
       "\n",
       "   ...  weather services environment food atmosphere family atmosphere  \\\n",
       "0  ...      NaN      NaN         NaN             NaN               NaN   \n",
       "\n",
       "  experiences food quality way  seating area  scenery  price  \n",
       "0         NaN              NaN           NaN      NaN    NaN  \n",
       "\n",
       "[1 rows x 50 columns]"
      ]
     },
     "execution_count": 14,
     "metadata": {},
     "output_type": "execute_result"
    }
   ],
   "source": [
    "# Load the SetFit ABSA data set which has the inference from the mdoel for 2000 samples of data\n",
    "temp_comp_setfit_absa = pd.read_csv('../../data/evaluation_datasets/SetFit_ABSA_manual_eval_comparison.csv')\n",
    "temp_comp_setfit_absa.head(1)"
   ]
  },
  {
   "cell_type": "code",
   "execution_count": 15,
   "id": "9afd12f2-8985-4286-bb48-471689b9b866",
   "metadata": {},
   "outputs": [],
   "source": [
    "setfit_columns = ['atmosphere', 'food', 'service', 'seating', 'experience', 'setting', 'outdoor setting', 'location', \\\n",
    "                  'quality food', 'food quality', 'food quality side', 'weather', 'services', 'environment',\\\n",
    "                   'food atmosphere', 'family atmosphere', 'experiences', 'food quality way', 'seating area', 'scenery', 'price']\n",
    "\n",
    "comp_setfit_absa = pd.DataFrame()\n",
    "for cols in setfit_columns:\n",
    "    \n",
    "    temp_comp_setfit_absa['Aspect'] = cols\n",
    "    if len(comp_setfit_absa)==0:\n",
    "        temp_setfit = temp_comp_setfit_absa[['review_id','Aspect',cols]]\n",
    "        temp_setfit = temp_setfit.rename(columns={cols : 'Model Label'})\n",
    "        comp_setfit_absa = temp_setfit\n",
    "    else:\n",
    "        temp_setfit = temp_comp_setfit_absa[['review_id','Aspect',cols]]\n",
    "        temp_setfit = temp_setfit.rename(columns={cols : 'Model Label'})\n",
    "        comp_setfit_absa = pd.concat([comp_setfit_absa, temp_setfit], ignore_index=True)"
   ]
  },
  {
   "cell_type": "code",
   "execution_count": 16,
   "id": "f8172974-04be-4902-bce0-211c3097fc4f",
   "metadata": {},
   "outputs": [
    {
     "data": {
      "text/html": [
       "<div>\n",
       "<style scoped>\n",
       "    .dataframe tbody tr th:only-of-type {\n",
       "        vertical-align: middle;\n",
       "    }\n",
       "\n",
       "    .dataframe tbody tr th {\n",
       "        vertical-align: top;\n",
       "    }\n",
       "\n",
       "    .dataframe thead th {\n",
       "        text-align: right;\n",
       "    }\n",
       "</style>\n",
       "<table border=\"1\" class=\"dataframe\">\n",
       "  <thead>\n",
       "    <tr style=\"text-align: right;\">\n",
       "      <th></th>\n",
       "      <th>review_id</th>\n",
       "      <th>Aspect</th>\n",
       "      <th>Model Label</th>\n",
       "    </tr>\n",
       "  </thead>\n",
       "  <tbody>\n",
       "    <tr>\n",
       "      <th>0</th>\n",
       "      <td>K-2es_s2Yc7hIiIrRD5W7w</td>\n",
       "      <td>atmosphere</td>\n",
       "      <td>positive</td>\n",
       "    </tr>\n",
       "  </tbody>\n",
       "</table>\n",
       "</div>"
      ],
      "text/plain": [
       "                review_id      Aspect Model Label\n",
       "0  K-2es_s2Yc7hIiIrRD5W7w  atmosphere    positive"
      ]
     },
     "execution_count": 16,
     "metadata": {},
     "output_type": "execute_result"
    }
   ],
   "source": [
    "comp_setfit_absa.head(1)"
   ]
  },
  {
   "cell_type": "code",
   "execution_count": 17,
   "id": "ff5cd934-a5f8-4ace-82b9-389e4866289a",
   "metadata": {},
   "outputs": [
    {
     "data": {
      "text/plain": [
       "18606"
      ]
     },
     "execution_count": 17,
     "metadata": {},
     "output_type": "execute_result"
    }
   ],
   "source": [
    "len(comp_setfit_absa)"
   ]
  },
  {
   "cell_type": "code",
   "execution_count": 18,
   "id": "27f4b8c5-3932-46e9-851b-240eae912618",
   "metadata": {},
   "outputs": [
    {
     "data": {
      "text/html": [
       "<div>\n",
       "<style scoped>\n",
       "    .dataframe tbody tr th:only-of-type {\n",
       "        vertical-align: middle;\n",
       "    }\n",
       "\n",
       "    .dataframe tbody tr th {\n",
       "        vertical-align: top;\n",
       "    }\n",
       "\n",
       "    .dataframe thead th {\n",
       "        text-align: right;\n",
       "    }\n",
       "</style>\n",
       "<table border=\"1\" class=\"dataframe\">\n",
       "  <thead>\n",
       "    <tr style=\"text-align: right;\">\n",
       "      <th></th>\n",
       "      <th>Unnamed: 0</th>\n",
       "      <th>business_id</th>\n",
       "      <th>review_id</th>\n",
       "      <th>ambiance_label</th>\n",
       "      <th>atmosphere_label</th>\n",
       "      <th>dessert_label</th>\n",
       "      <th>drinks_label</th>\n",
       "      <th>entertainment_label</th>\n",
       "      <th>experience_label</th>\n",
       "      <th>food_label</th>\n",
       "      <th>...</th>\n",
       "      <th>kid_friendly_score</th>\n",
       "      <th>location_score</th>\n",
       "      <th>noise_level_score</th>\n",
       "      <th>price_score</th>\n",
       "      <th>seating_score</th>\n",
       "      <th>service_score</th>\n",
       "      <th>setting_score</th>\n",
       "      <th>space_score</th>\n",
       "      <th>utilities_score</th>\n",
       "      <th>waiting_time_score</th>\n",
       "    </tr>\n",
       "  </thead>\n",
       "  <tbody>\n",
       "    <tr>\n",
       "      <th>0</th>\n",
       "      <td>0</td>\n",
       "      <td>-3AooxIkg38UyUdlz5oXdw</td>\n",
       "      <td>Bl1VqhkkGx7EoUrDOCFW8w</td>\n",
       "      <td>NaN</td>\n",
       "      <td>Negative</td>\n",
       "      <td>NaN</td>\n",
       "      <td>NaN</td>\n",
       "      <td>NaN</td>\n",
       "      <td>NaN</td>\n",
       "      <td>Positive</td>\n",
       "      <td>...</td>\n",
       "      <td>NaN</td>\n",
       "      <td>0.517108</td>\n",
       "      <td>NaN</td>\n",
       "      <td>NaN</td>\n",
       "      <td>NaN</td>\n",
       "      <td>0.453472</td>\n",
       "      <td>NaN</td>\n",
       "      <td>0.537013</td>\n",
       "      <td>NaN</td>\n",
       "      <td>0.680859</td>\n",
       "    </tr>\n",
       "  </tbody>\n",
       "</table>\n",
       "<p>1 rows × 41 columns</p>\n",
       "</div>"
      ],
      "text/plain": [
       "   Unnamed: 0             business_id               review_id ambiance_label  \\\n",
       "0           0  -3AooxIkg38UyUdlz5oXdw  Bl1VqhkkGx7EoUrDOCFW8w            NaN   \n",
       "\n",
       "  atmosphere_label dessert_label drinks_label entertainment_label  \\\n",
       "0         Negative           NaN          NaN                 NaN   \n",
       "\n",
       "  experience_label food_label  ... kid_friendly_score location_score  \\\n",
       "0              NaN   Positive  ...                NaN       0.517108   \n",
       "\n",
       "  noise_level_score price_score seating_score service_score setting_score  \\\n",
       "0               NaN         NaN           NaN      0.453472           NaN   \n",
       "\n",
       "  space_score utilities_score waiting_time_score  \n",
       "0    0.537013             NaN           0.680859  \n",
       "\n",
       "[1 rows x 41 columns]"
      ]
     },
     "execution_count": 18,
     "metadata": {},
     "output_type": "execute_result"
    }
   ],
   "source": [
    "# Load the SetFit ABSA data set which has the inference from the mdoel for 2000 samples of data\n",
    "temp_comp_deberta_absa = pd.read_csv('../../data/evaluation_datasets/deberta_manual_eval_comparison.csv')\n",
    "temp_comp_deberta_absa.head(1)"
   ]
  },
  {
   "cell_type": "code",
   "execution_count": 19,
   "id": "6734beca-dbd9-400c-9351-f6049032db8e",
   "metadata": {},
   "outputs": [],
   "source": [
    "# Create global variables to store results\n",
    "global comp_deberta_absa \n",
    "comp_deberta_absa = pd.DataFrame()"
   ]
  },
  {
   "cell_type": "code",
   "execution_count": 20,
   "id": "6d84d5cd-252d-416b-9667-dd120c4c527d",
   "metadata": {},
   "outputs": [],
   "source": [
    "def findSentimentPerReview(temp_df, aspect):\n",
    "    \"\"\" \n",
    "    Purpose of the function is to find sentiment per reviews per aspect \n",
    "    For each review per aspect:\n",
    "    - the label is marked negative, if the confidence score is >=0.7 and the label is negative\n",
    "    - the label is marked positive, if the confidence score is >=0.7 and the label is positive\n",
    "\n",
    "    Input: Dataframe with aspect label and aspect score for each review id\n",
    "    Output: Dataframe with sentiment for all aspects and for the sample reviews\n",
    "    \"\"\"\n",
    "    global comp_deberta_absa \n",
    "    \n",
    "    label_col = aspect+'_label'\n",
    "    score_col = aspect+'_score'\n",
    "\n",
    "    temp_df['Aspect'] = aspect\n",
    "    \n",
    "    # For each review and aspect, the label is marked negative, if the confidence score is >=0.7 and the label is negative\n",
    "    temp_df['Model Label'] = temp_df.apply(lambda x: 1 if (x[label_col]=='Negative') & \\\n",
    "                                        (x[score_col] >= 0.7) \\\n",
    "                                        else 'Positive' if (x[label_col]=='Positive') & (x[score_col] >= 0.7) else 'Neutral', axis=1)\n",
    "    if len(comp_deberta_absa)==0:\n",
    "        comp_deberta_absa = temp_df[['review_id','Aspect','Model Label']]\n",
    "    else:\n",
    "        comp_deberta_absa = pd.concat([comp_deberta_absa, temp_df[['review_id','Aspect','Model Label']]], ignore_index=True)\n",
    "\n",
    "    # return the final data frame\n",
    "    return comp_deberta_absa"
   ]
  },
  {
   "cell_type": "code",
   "execution_count": 21,
   "id": "f9be566f-06ef-4de7-88b1-489f5542ba6e",
   "metadata": {},
   "outputs": [
    {
     "data": {
      "text/html": [
       "<div>\n",
       "<style scoped>\n",
       "    .dataframe tbody tr th:only-of-type {\n",
       "        vertical-align: middle;\n",
       "    }\n",
       "\n",
       "    .dataframe tbody tr th {\n",
       "        vertical-align: top;\n",
       "    }\n",
       "\n",
       "    .dataframe thead th {\n",
       "        text-align: right;\n",
       "    }\n",
       "</style>\n",
       "<table border=\"1\" class=\"dataframe\">\n",
       "  <thead>\n",
       "    <tr style=\"text-align: right;\">\n",
       "      <th></th>\n",
       "      <th>review_id</th>\n",
       "      <th>Aspect</th>\n",
       "      <th>Model Label</th>\n",
       "    </tr>\n",
       "  </thead>\n",
       "  <tbody>\n",
       "    <tr>\n",
       "      <th>0</th>\n",
       "      <td>Bl1VqhkkGx7EoUrDOCFW8w</td>\n",
       "      <td>ambiance</td>\n",
       "      <td>Neutral</td>\n",
       "    </tr>\n",
       "  </tbody>\n",
       "</table>\n",
       "</div>"
      ],
      "text/plain": [
       "                review_id    Aspect Model Label\n",
       "0  Bl1VqhkkGx7EoUrDOCFW8w  ambiance     Neutral"
      ]
     },
     "execution_count": 21,
     "metadata": {},
     "output_type": "execute_result"
    }
   ],
   "source": [
    "# the aspect columns to consider \n",
    "columns = ['ambiance','atmosphere','dessert','drinks','entertainment','experience','food','food_portion','kid_friendly',\\\n",
    "           'location','noise_level', 'price','seating','service','setting','space','waiting_time']\n",
    "\n",
    "# find sentiment per aspect for all reviews\n",
    "for aspect in columns:\n",
    "    findSentimentPerReview(temp_comp_deberta_absa[['review_id',aspect+'_label', aspect+'_score']], aspect)\n",
    "\n",
    "# Print the result\n",
    "comp_deberta_absa.head(1)"
   ]
  },
  {
   "cell_type": "code",
   "execution_count": 22,
   "id": "7a89a834-e348-4271-a485-995d164d25a3",
   "metadata": {},
   "outputs": [
    {
     "data": {
      "text/plain": [
       "31501"
      ]
     },
     "execution_count": 22,
     "metadata": {},
     "output_type": "execute_result"
    }
   ],
   "source": [
    "len(comp_deberta_absa)"
   ]
  },
  {
   "cell_type": "code",
   "execution_count": 23,
   "id": "d11ecdfb-babc-4897-95e7-a042eb7c6a1b",
   "metadata": {},
   "outputs": [
    {
     "data": {
      "text/plain": [
       "18606"
      ]
     },
     "execution_count": 23,
     "metadata": {},
     "output_type": "execute_result"
    }
   ],
   "source": [
    "len(comp_setfit_absa)"
   ]
  },
  {
   "cell_type": "code",
   "execution_count": 24,
   "id": "f2a69826-3c4e-4557-b074-4183f32216e8",
   "metadata": {},
   "outputs": [
    {
     "data": {
      "text/html": [
       "<div>\n",
       "<style scoped>\n",
       "    .dataframe tbody tr th:only-of-type {\n",
       "        vertical-align: middle;\n",
       "    }\n",
       "\n",
       "    .dataframe tbody tr th {\n",
       "        vertical-align: top;\n",
       "    }\n",
       "\n",
       "    .dataframe thead th {\n",
       "        text-align: right;\n",
       "    }\n",
       "</style>\n",
       "<table border=\"1\" class=\"dataframe\">\n",
       "  <thead>\n",
       "    <tr style=\"text-align: right;\">\n",
       "      <th></th>\n",
       "      <th>review_id</th>\n",
       "      <th>Aspect</th>\n",
       "      <th>Model Label_x</th>\n",
       "      <th>Model Label_y</th>\n",
       "    </tr>\n",
       "  </thead>\n",
       "  <tbody>\n",
       "    <tr>\n",
       "      <th>0</th>\n",
       "      <td>Bl1VqhkkGx7EoUrDOCFW8w</td>\n",
       "      <td>ambiance</td>\n",
       "      <td>Neutral</td>\n",
       "      <td>NaN</td>\n",
       "    </tr>\n",
       "  </tbody>\n",
       "</table>\n",
       "</div>"
      ],
      "text/plain": [
       "                review_id    Aspect Model Label_x Model Label_y\n",
       "0  Bl1VqhkkGx7EoUrDOCFW8w  ambiance       Neutral           NaN"
      ]
     },
     "execution_count": 24,
     "metadata": {},
     "output_type": "execute_result"
    }
   ],
   "source": [
    "# Combine the two model results using aspect and review id as keys\n",
    "deberta_setfit_absa_df = pd.merge(comp_deberta_absa[comp_deberta_absa['Model Label']!=1], comp_setfit_absa, on=['Aspect','review_id'], how='left')\n",
    "\n",
    "deberta_setfit_absa_df.head(1)"
   ]
  },
  {
   "cell_type": "code",
   "execution_count": 25,
   "id": "9d5ed46b-b6a7-4887-99ca-6a8ff669f9cd",
   "metadata": {},
   "outputs": [],
   "source": [
    "# Rename the column names and map it to the Deberta and SetFit ABSA column names \n",
    "deberta_setfit_absa_df = deberta_setfit_absa_df.rename(columns={'Model Label_x' : 'Deberta_Model_Results', 'Model Label_y' : 'Setfit_ABSA_Model_Results'})"
   ]
  },
  {
   "cell_type": "code",
   "execution_count": 26,
   "id": "bc2822e8-3da1-48b4-9cb7-3ed0a1b2bbce",
   "metadata": {},
   "outputs": [
    {
     "data": {
      "text/html": [
       "<div>\n",
       "<style scoped>\n",
       "    .dataframe tbody tr th:only-of-type {\n",
       "        vertical-align: middle;\n",
       "    }\n",
       "\n",
       "    .dataframe tbody tr th {\n",
       "        vertical-align: top;\n",
       "    }\n",
       "\n",
       "    .dataframe thead th {\n",
       "        text-align: right;\n",
       "    }\n",
       "</style>\n",
       "<table border=\"1\" class=\"dataframe\">\n",
       "  <thead>\n",
       "    <tr style=\"text-align: right;\">\n",
       "      <th>Setfit_ABSA_Model_Results</th>\n",
       "      <th>positive</th>\n",
       "    </tr>\n",
       "    <tr>\n",
       "      <th>Deberta_Model_Results</th>\n",
       "      <th></th>\n",
       "    </tr>\n",
       "  </thead>\n",
       "  <tbody>\n",
       "    <tr>\n",
       "      <th>Neutral</th>\n",
       "      <td>203</td>\n",
       "    </tr>\n",
       "    <tr>\n",
       "      <th>Positive</th>\n",
       "      <td>830</td>\n",
       "    </tr>\n",
       "  </tbody>\n",
       "</table>\n",
       "</div>"
      ],
      "text/plain": [
       "Setfit_ABSA_Model_Results  positive\n",
       "Deberta_Model_Results              \n",
       "Neutral                         203\n",
       "Positive                        830"
      ]
     },
     "execution_count": 26,
     "metadata": {},
     "output_type": "execute_result"
    }
   ],
   "source": [
    "# Group the dataframe to create a confusion matrix with Deberta model label and SetFit ABSA model label\n",
    "\n",
    "deberta_setfit_absa_gp = deberta_setfit_absa_df.groupby(['Deberta_Model_Results','Setfit_ABSA_Model_Results'])\\\n",
    "                                                            ['review_id'].count().reset_index()\n",
    "\n",
    "deberta_setfit_absa_gp = deberta_setfit_absa_gp.pivot(index='Deberta_Model_Results', \\\n",
    "                                                              columns='Setfit_ABSA_Model_Results')['review_id'].fillna(0)\n",
    "\n",
    "deberta_setfit_absa_gp"
   ]
  },
  {
   "cell_type": "code",
   "execution_count": 27,
   "id": "f081a28c-122b-44b0-a88c-6453ceb76a7f",
   "metadata": {},
   "outputs": [
    {
     "data": {
      "image/png": "[encoded data removed]"
     },
     "metadata": {},
     "output_type": "display_data"
    }
   ],
   "source": [
    "# Showing the image using Plotly express heatmap\n",
    "fig = px.imshow(deberta_setfit_absa_gp, x = deberta_setfit_absa_gp.columns, y = deberta_setfit_absa_gp.index, \\\n",
    "                color_continuous_scale=px.colors.sequential.Greens, text_auto=True)\n",
    "\n",
    "fig.update_layout(width=500,height=500)\n",
    "\n",
    "fig.show(\"png\")"
   ]
  },
  {
   "cell_type": "code",
   "execution_count": 28,
   "id": "6bf12e03-1eee-4008-8d41-40486ad563a5",
   "metadata": {},
   "outputs": [],
   "source": [
    "# Done"
   ]
  }
 ],
 "metadata": {
  "kernelspec": {
   "display_name": "Python 3 (ipykernel)",
   "language": "python",
   "name": "python3"
  },
  "language_info": {
   "codemirror_mode": {
    "name": "ipython",
    "version": 3
   },
   "file_extension": ".py",
   "mimetype": "text/x-python",
   "name": "python",
   "nbconvert_exporter": "python",
   "pygments_lexer": "ipython3",
   "version": "3.8.9"
  }
 },
 "nbformat": 4,
 "nbformat_minor": 5
}
