{
 "cells": [
  {
   "cell_type": "markdown",
   "source": [
    "#####" This file provide a function for users to search useful reviews for one particular aspect based on input restaurantId and aspect name "
    "#### 1. Prepare dataset"
   ],
   "metadata": {
    "collapsed": false
   },
   "id": "5e058f24cbfb6b12"
  },
  {
   "cell_type": "markdown",
   "source": [
    "1) load review dataset, get columns 'review_id', 'categories', 'text','RestaurantsPriceRange2', 'RestaurantsAttire' from this dataset.\n",
    "2) Load aspects dataset which is the output result of deberta model, precess it and aggragate with the review dataset."
   ],
   "metadata": {
    "collapsed": false
   },
   "id": "c5ef284237d41501"
  },
  {
   "cell_type": "code",
   "outputs": [
    {
     "data": {
      "text/plain": "      Unnamed: 0             business_id               review_id  \\\n0              0  -3AooxIkg38UyUdlz5oXdw  Bl1VqhkkGx7EoUrDOCFW8w   \n1              1  -3AooxIkg38UyUdlz5oXdw  KiU6B5XoFdT9l3MsGYPOZg   \n2              2  -3AooxIkg38UyUdlz5oXdw  V7Wt6sPCTGAqbYs8okNQ3w   \n3              3  -8iATYRnN46Km0_-ldx6cg  8xVsO5itmEY0xZ3u898AMg   \n4              4  -9r8nAzWyRSLxBWt8uQOdA  8kheTuGA9sPd6MVyXRr6Kw   \n...          ...                     ...                     ...   \n1848        1848  znlrxrY4InSx7ekPZxoHRw  zrif4eelRzkxnTcc5pNKiw   \n1849        1849  zpuFEeAhrNzXPkOlBf5Kog  lrvtEz4KpJhV8LUXL-mbuA   \n1850        1850  zpuFEeAhrNzXPkOlBf5Kog  v2VPYuS7Zkoqg6AkHjzc3Q   \n1851        1851  zu4p6IZLSVn2Noto-vcwzw  3Kinrkj2zeWKxh3nXyOfdw   \n1852        1852  zu4p6IZLSVn2Noto-vcwzw  P_CTZKjvAGPUHP1uX3oJIg   \n\n     ambiance_label atmosphere_label dessert_label drinks_label  \\\n0               NaN         Negative           NaN          NaN   \n1               NaN              NaN           NaN          NaN   \n2               NaN         Positive           NaN          NaN   \n3               NaN         Positive           NaN     Positive   \n4          Positive         Positive           NaN          NaN   \n...             ...              ...           ...          ...   \n1848            NaN         Positive           NaN          NaN   \n1849            NaN              NaN           NaN          NaN   \n1850            NaN         Negative           NaN          NaN   \n1851            NaN              NaN           NaN          NaN   \n1852            NaN              NaN           NaN          NaN   \n\n     entertainment_label experience_label food_label  ... kid_friendly_score  \\\n0                    NaN              NaN   Positive  ...                NaN   \n1                    NaN         Positive   Positive  ...                NaN   \n2                    NaN              NaN   Negative  ...                NaN   \n3                    NaN              NaN   Positive  ...                NaN   \n4                    NaN              NaN   Positive  ...                NaN   \n...                  ...              ...        ...  ...                ...   \n1848                 NaN              NaN   Positive  ...                NaN   \n1849                 NaN              NaN        NaN  ...                NaN   \n1850                 NaN              NaN        NaN  ...                NaN   \n1851                 NaN              NaN        NaN  ...                NaN   \n1852                 NaN              NaN        NaN  ...                NaN   \n\n     location_score noise_level_score price_score seating_score service_score  \\\n0          0.517108               NaN         NaN           NaN      0.453472   \n1               NaN               NaN         NaN           NaN           NaN   \n2          0.600989               NaN    0.831413           NaN      0.501830   \n3          0.999852               NaN         NaN           NaN           NaN   \n4               NaN               NaN         NaN           NaN           NaN   \n...             ...               ...         ...           ...           ...   \n1848       0.995302               NaN         NaN           NaN           NaN   \n1849            NaN               NaN    0.996491           NaN      0.999866   \n1850       0.550732               NaN         NaN           NaN           NaN   \n1851       0.750418               NaN         NaN           NaN           NaN   \n1852       0.677004               NaN         NaN           NaN      0.952327   \n\n     setting_score space_score utilities_score waiting_time_score  \n0              NaN    0.537013             NaN           0.680859  \n1              NaN         NaN             NaN           0.892360  \n2         0.630508    0.539700        0.574026                NaN  \n3         0.914718    0.992303             NaN                NaN  \n4              NaN         NaN             NaN                NaN  \n...            ...         ...             ...                ...  \n1848      0.952239    0.987540             NaN                NaN  \n1849           NaN         NaN        0.931868                NaN  \n1850           NaN    0.677887             NaN                NaN  \n1851           NaN    0.666970             NaN           0.581326  \n1852           NaN    0.690127        0.629509           0.625506  \n\n[1853 rows x 41 columns]",
      "text/html": "<div>\n<style scoped>\n    .dataframe tbody tr th:only-of-type {\n        vertical-align: middle;\n    }\n\n    .dataframe tbody tr th {\n        vertical-align: top;\n    }\n\n    .dataframe thead th {\n        text-align: right;\n    }\n</style>\n<table border=\"1\" class=\"dataframe\">\n  <thead>\n    <tr style=\"text-align: right;\">\n      <th></th>\n      <th>Unnamed: 0</th>\n      <th>business_id</th>\n      <th>review_id</th>\n      <th>ambiance_label</th>\n      <th>atmosphere_label</th>\n      <th>dessert_label</th>\n      <th>drinks_label</th>\n      <th>entertainment_label</th>\n      <th>experience_label</th>\n      <th>food_label</th>\n      <th>...</th>\n      <th>kid_friendly_score</th>\n      <th>location_score</th>\n      <th>noise_level_score</th>\n      <th>price_score</th>\n      <th>seating_score</th>\n      <th>service_score</th>\n      <th>setting_score</th>\n      <th>space_score</th>\n      <th>utilities_score</th>\n      <th>waiting_time_score</th>\n    </tr>\n  </thead>\n  <tbody>\n    <tr>\n      <th>0</th>\n      <td>0</td>\n      <td>-3AooxIkg38UyUdlz5oXdw</td>\n      <td>Bl1VqhkkGx7EoUrDOCFW8w</td>\n      <td>NaN</td>\n      <td>Negative</td>\n      <td>NaN</td>\n      <td>NaN</td>\n      <td>NaN</td>\n      <td>NaN</td>\n      <td>Positive</td>\n      <td>...</td>\n      <td>NaN</td>\n      <td>0.517108</td>\n      <td>NaN</td>\n      <td>NaN</td>\n      <td>NaN</td>\n      <td>0.453472</td>\n      <td>NaN</td>\n      <td>0.537013</td>\n      <td>NaN</td>\n      <td>0.680859</td>\n    </tr>\n    <tr>\n      <th>1</th>\n      <td>1</td>\n      <td>-3AooxIkg38UyUdlz5oXdw</td>\n      <td>KiU6B5XoFdT9l3MsGYPOZg</td>\n      <td>NaN</td>\n      <td>NaN</td>\n      <td>NaN</td>\n      <td>NaN</td>\n      <td>NaN</td>\n      <td>Positive</td>\n      <td>Positive</td>\n      <td>...</td>\n      <td>NaN</td>\n      <td>NaN</td>\n      <td>NaN</td>\n      <td>NaN</td>\n      <td>NaN</td>\n      <td>NaN</td>\n      <td>NaN</td>\n      <td>NaN</td>\n      <td>NaN</td>\n      <td>0.892360</td>\n    </tr>\n    <tr>\n      <th>2</th>\n      <td>2</td>\n      <td>-3AooxIkg38UyUdlz5oXdw</td>\n      <td>V7Wt6sPCTGAqbYs8okNQ3w</td>\n      <td>NaN</td>\n      <td>Positive</td>\n      <td>NaN</td>\n      <td>NaN</td>\n      <td>NaN</td>\n      <td>NaN</td>\n      <td>Negative</td>\n      <td>...</td>\n      <td>NaN</td>\n      <td>0.600989</td>\n      <td>NaN</td>\n      <td>0.831413</td>\n      <td>NaN</td>\n      <td>0.501830</td>\n      <td>0.630508</td>\n      <td>0.539700</td>\n      <td>0.574026</td>\n      <td>NaN</td>\n    </tr>\n    <tr>\n      <th>3</th>\n      <td>3</td>\n      <td>-8iATYRnN46Km0_-ldx6cg</td>\n      <td>8xVsO5itmEY0xZ3u898AMg</td>\n      <td>NaN</td>\n      <td>Positive</td>\n      <td>NaN</td>\n      <td>Positive</td>\n      <td>NaN</td>\n      <td>NaN</td>\n      <td>Positive</td>\n      <td>...</td>\n      <td>NaN</td>\n      <td>0.999852</td>\n      <td>NaN</td>\n      <td>NaN</td>\n      <td>NaN</td>\n      <td>NaN</td>\n      <td>0.914718</td>\n      <td>0.992303</td>\n      <td>NaN</td>\n      <td>NaN</td>\n    </tr>\n    <tr>\n      <th>4</th>\n      <td>4</td>\n      <td>-9r8nAzWyRSLxBWt8uQOdA</td>\n      <td>8kheTuGA9sPd6MVyXRr6Kw</td>\n      <td>Positive</td>\n      <td>Positive</td>\n      <td>NaN</td>\n      <td>NaN</td>\n      <td>NaN</td>\n      <td>NaN</td>\n      <td>Positive</td>\n      <td>...</td>\n      <td>NaN</td>\n      <td>NaN</td>\n      <td>NaN</td>\n      <td>NaN</td>\n      <td>NaN</td>\n      <td>NaN</td>\n      <td>NaN</td>\n      <td>NaN</td>\n      <td>NaN</td>\n      <td>NaN</td>\n    </tr>\n    <tr>\n      <th>...</th>\n      <td>...</td>\n      <td>...</td>\n      <td>...</td>\n      <td>...</td>\n      <td>...</td>\n      <td>...</td>\n      <td>...</td>\n      <td>...</td>\n      <td>...</td>\n      <td>...</td>\n      <td>...</td>\n      <td>...</td>\n      <td>...</td>\n      <td>...</td>\n      <td>...</td>\n      <td>...</td>\n      <td>...</td>\n      <td>...</td>\n      <td>...</td>\n      <td>...</td>\n      <td>...</td>\n    </tr>\n    <tr>\n      <th>1848</th>\n      <td>1848</td>\n      <td>znlrxrY4InSx7ekPZxoHRw</td>\n      <td>zrif4eelRzkxnTcc5pNKiw</td>\n      <td>NaN</td>\n      <td>Positive</td>\n      <td>NaN</td>\n      <td>NaN</td>\n      <td>NaN</td>\n      <td>NaN</td>\n      <td>Positive</td>\n      <td>...</td>\n      <td>NaN</td>\n      <td>0.995302</td>\n      <td>NaN</td>\n      <td>NaN</td>\n      <td>NaN</td>\n      <td>NaN</td>\n      <td>0.952239</td>\n      <td>0.987540</td>\n      <td>NaN</td>\n      <td>NaN</td>\n    </tr>\n    <tr>\n      <th>1849</th>\n      <td>1849</td>\n      <td>zpuFEeAhrNzXPkOlBf5Kog</td>\n      <td>lrvtEz4KpJhV8LUXL-mbuA</td>\n      <td>NaN</td>\n      <td>NaN</td>\n      <td>NaN</td>\n      <td>NaN</td>\n      <td>NaN</td>\n      <td>NaN</td>\n      <td>NaN</td>\n      <td>...</td>\n      <td>NaN</td>\n      <td>NaN</td>\n      <td>NaN</td>\n      <td>0.996491</td>\n      <td>NaN</td>\n      <td>0.999866</td>\n      <td>NaN</td>\n      <td>NaN</td>\n      <td>0.931868</td>\n      <td>NaN</td>\n    </tr>\n    <tr>\n      <th>1850</th>\n      <td>1850</td>\n      <td>zpuFEeAhrNzXPkOlBf5Kog</td>\n      <td>v2VPYuS7Zkoqg6AkHjzc3Q</td>\n      <td>NaN</td>\n      <td>Negative</td>\n      <td>NaN</td>\n      <td>NaN</td>\n      <td>NaN</td>\n      <td>NaN</td>\n      <td>NaN</td>\n      <td>...</td>\n      <td>NaN</td>\n      <td>0.550732</td>\n      <td>NaN</td>\n      <td>NaN</td>\n      <td>NaN</td>\n      <td>NaN</td>\n      <td>NaN</td>\n      <td>0.677887</td>\n      <td>NaN</td>\n      <td>NaN</td>\n    </tr>\n    <tr>\n      <th>1851</th>\n      <td>1851</td>\n      <td>zu4p6IZLSVn2Noto-vcwzw</td>\n      <td>3Kinrkj2zeWKxh3nXyOfdw</td>\n      <td>NaN</td>\n      <td>NaN</td>\n      <td>NaN</td>\n      <td>NaN</td>\n      <td>NaN</td>\n      <td>NaN</td>\n      <td>NaN</td>\n      <td>...</td>\n      <td>NaN</td>\n      <td>0.750418</td>\n      <td>NaN</td>\n      <td>NaN</td>\n      <td>NaN</td>\n      <td>NaN</td>\n      <td>NaN</td>\n      <td>0.666970</td>\n      <td>NaN</td>\n      <td>0.581326</td>\n    </tr>\n    <tr>\n      <th>1852</th>\n      <td>1852</td>\n      <td>zu4p6IZLSVn2Noto-vcwzw</td>\n      <td>P_CTZKjvAGPUHP1uX3oJIg</td>\n      <td>NaN</td>\n      <td>NaN</td>\n      <td>NaN</td>\n      <td>NaN</td>\n      <td>NaN</td>\n      <td>NaN</td>\n      <td>NaN</td>\n      <td>...</td>\n      <td>NaN</td>\n      <td>0.677004</td>\n      <td>NaN</td>\n      <td>NaN</td>\n      <td>NaN</td>\n      <td>0.952327</td>\n      <td>NaN</td>\n      <td>0.690127</td>\n      <td>0.629509</td>\n      <td>0.625506</td>\n    </tr>\n  </tbody>\n</table>\n<p>1853 rows × 41 columns</p>\n</div>"
     },
     "execution_count": 1,
     "metadata": {},
     "output_type": "execute_result"
    }
   ],
   "source": [
    "import pandas as pd\n",
    "import numpy as np\n",
    " \n",
    "aspect_result_path = '../data/deberta_aspect_score_sentiment_results.csv'\n",
    "ca_file_path = '../data/ca_restaurants.csv'\n",
    "ca_df = pd.read_csv(ca_file_path)\n",
    "aspects_df = pd.read_csv(aspect_result_path)\n",
    "aspects_df"
   ],
   "metadata": {
    "collapsed": true,
    "ExecuteTime": {
     "end_time": "2024-04-07T17:37:01.856555Z",
     "start_time": "2024-04-07T17:36:59.104071Z"
    }
   },
   "id": "initial_id",
   "execution_count": 1
  },
  {
   "cell_type": "code",
   "outputs": [
    {
     "data": {
      "text/plain": "        Unnamed: 0               review_id                 user_id  \\\n0             1375  pUycOfUwM8vqX7KjRRhUEA  59MxRhNVhU9MYndMkz0wtw   \n1             1376  _Ub20uO1MKy4XOVPOdzpqw  lUYboGI6aFbZ0dX27pijpA   \n2             1377  -DjIfoNFAiT5J4kF9hXocQ  SrfDRvGKI8FQq9LCr0dQuQ   \n3             1378  URe-2Zlv7RoY4Ycr9JYVWw  SfMf7DEX7xT82OCcbZFsgQ   \n4             1379  tHP5ihPd_W9OzfkKEWdIwA  aH3AH7V9g60w4pt3LpJ1_Q   \n...            ...                     ...                     ...   \n247608     6990221  cKuP5pnvbvpn4UbaccVcdg  OVYb1El25BgVhgbXb4e-KA   \n247609     6990222  dZC87sZ1f2ntOf876_DDLg  9w5PoliouEyNikdy6DizqQ   \n247610     6990223  NCafkcXIvK7E965my4RpQg  GmuHOkMR80oW3sAuF-UsAw   \n247611     6990224  VxsNftGxRUDZcLD0Ns1wKg  VRXPOvlSydho0tYmSseKnQ   \n247612     6990225  beFM3Lm5Pj6Spr8x6RV9Cg  uoYuvbxTCB0eu1UF4sUTcA   \n\n                   business_id  stars_x  useful  funny  cool  \\\n0       gebiRewfieSdtt17PTW6Zg        3       0      0     0   \n1       gebiRewfieSdtt17PTW6Zg        1       0      2     0   \n2       gebiRewfieSdtt17PTW6Zg        3       9      4     6   \n3       gebiRewfieSdtt17PTW6Zg        5       1      0     1   \n4       gebiRewfieSdtt17PTW6Zg        4       0      0     0   \n...                        ...      ...     ...    ...   ...   \n247608  XPkkWyAkkPeH-PqXmBMmpg        5       0      0     0   \n247609  XPkkWyAkkPeH-PqXmBMmpg        5       0      0     0   \n247610  XPkkWyAkkPeH-PqXmBMmpg        5       0      0     0   \n247611  XPkkWyAkkPeH-PqXmBMmpg        5       0      0     0   \n247612  XPkkWyAkkPeH-PqXmBMmpg        5       0      0     1   \n\n                                                     text  \\\n0       Had a party of 6 here for hibachi. Our waitres...   \n1       Sat down over a half hour, only miso and drink...   \n2       Not bad. Sushi roll was good but options were ...   \n3       I'm very picky when it comes to Sushi. Quality...   \n4       Even though the sushi masters are not actually...   \n...                                                   ...   \n247608  Great experience with great people who are rea...   \n247609  I spent the week in Santa Barbara and had the ...   \n247610  Last summer, I had the pleasure of experiencin...   \n247611  Joseph and Teresa are super hosts.  You will f...   \n247612  I discovered Santa Barbara Tours and Experienc...   \n\n                                 date  ... Music CoatCheck BestNights  \\\n0       2016-07-25 07:31:06.000000000  ...   NaN       NaN        NaN   \n1       2017-06-28 01:04:59.000000000  ...   NaN       NaN        NaN   \n2       2017-01-14 23:31:35.000000000  ...   NaN       NaN        NaN   \n3       2016-07-14 23:09:38.000000000  ...   NaN       NaN        NaN   \n4       2014-11-30 07:35:54.000000000  ...   NaN       NaN        NaN   \n...                               ...  ...   ...       ...        ...   \n247608  2021-06-22 21:41:07.000000000  ...   NaN       NaN        NaN   \n247609  2021-06-28 23:53:44.000000000  ...   NaN       NaN        NaN   \n247610  2021-07-06 19:15:56.000000000  ...   NaN       NaN        NaN   \n247611  2021-07-01 03:44:10.000000000  ...   NaN       NaN        NaN   \n247612  2021-07-27 20:41:20.000000000  ...   NaN       NaN        NaN   \n\n       GoodForDancing  Smoking  AgesAllowed  RestaurantsCounterService  \\\n0                 NaN      NaN          NaN                        NaN   \n1                 NaN      NaN          NaN                        NaN   \n2                 NaN      NaN          NaN                        NaN   \n3                 NaN      NaN          NaN                        NaN   \n4                 NaN      NaN          NaN                        NaN   \n...               ...      ...          ...                        ...   \n247608            NaN      NaN          NaN                        NaN   \n247609            NaN      NaN          NaN                        NaN   \n247610            NaN      NaN          NaN                        NaN   \n247611            NaN      NaN          NaN                        NaN   \n247612            NaN      NaN          NaN                        NaN   \n\n        AcceptsInsurance  Open24Hours  DietaryRestrictions  \n0                    NaN          NaN                  NaN  \n1                    NaN          NaN                  NaN  \n2                    NaN          NaN                  NaN  \n3                    NaN          NaN                  NaN  \n4                    NaN          NaN                  NaN  \n...                  ...          ...                  ...  \n247608               NaN          NaN                  NaN  \n247609               NaN          NaN                  NaN  \n247610               NaN          NaN                  NaN  \n247611               NaN          NaN                  NaN  \n247612               NaN          NaN                  NaN  \n\n[247613 rows x 62 columns]",
      "text/html": "<div>\n<style scoped>\n    .dataframe tbody tr th:only-of-type {\n        vertical-align: middle;\n    }\n\n    .dataframe tbody tr th {\n        vertical-align: top;\n    }\n\n    .dataframe thead th {\n        text-align: right;\n    }\n</style>\n<table border=\"1\" class=\"dataframe\">\n  <thead>\n    <tr style=\"text-align: right;\">\n      <th></th>\n      <th>Unnamed: 0</th>\n      <th>review_id</th>\n      <th>user_id</th>\n      <th>business_id</th>\n      <th>stars_x</th>\n      <th>useful</th>\n      <th>funny</th>\n      <th>cool</th>\n      <th>text</th>\n      <th>date</th>\n      <th>...</th>\n      <th>Music</th>\n      <th>CoatCheck</th>\n      <th>BestNights</th>\n      <th>GoodForDancing</th>\n      <th>Smoking</th>\n      <th>AgesAllowed</th>\n      <th>RestaurantsCounterService</th>\n      <th>AcceptsInsurance</th>\n      <th>Open24Hours</th>\n      <th>DietaryRestrictions</th>\n    </tr>\n  </thead>\n  <tbody>\n    <tr>\n      <th>0</th>\n      <td>1375</td>\n      <td>pUycOfUwM8vqX7KjRRhUEA</td>\n      <td>59MxRhNVhU9MYndMkz0wtw</td>\n      <td>gebiRewfieSdtt17PTW6Zg</td>\n      <td>3</td>\n      <td>0</td>\n      <td>0</td>\n      <td>0</td>\n      <td>Had a party of 6 here for hibachi. Our waitres...</td>\n      <td>2016-07-25 07:31:06.000000000</td>\n      <td>...</td>\n      <td>NaN</td>\n      <td>NaN</td>\n      <td>NaN</td>\n      <td>NaN</td>\n      <td>NaN</td>\n      <td>NaN</td>\n      <td>NaN</td>\n      <td>NaN</td>\n      <td>NaN</td>\n      <td>NaN</td>\n    </tr>\n    <tr>\n      <th>1</th>\n      <td>1376</td>\n      <td>_Ub20uO1MKy4XOVPOdzpqw</td>\n      <td>lUYboGI6aFbZ0dX27pijpA</td>\n      <td>gebiRewfieSdtt17PTW6Zg</td>\n      <td>1</td>\n      <td>0</td>\n      <td>2</td>\n      <td>0</td>\n      <td>Sat down over a half hour, only miso and drink...</td>\n      <td>2017-06-28 01:04:59.000000000</td>\n      <td>...</td>\n      <td>NaN</td>\n      <td>NaN</td>\n      <td>NaN</td>\n      <td>NaN</td>\n      <td>NaN</td>\n      <td>NaN</td>\n      <td>NaN</td>\n      <td>NaN</td>\n      <td>NaN</td>\n      <td>NaN</td>\n    </tr>\n    <tr>\n      <th>2</th>\n      <td>1377</td>\n      <td>-DjIfoNFAiT5J4kF9hXocQ</td>\n      <td>SrfDRvGKI8FQq9LCr0dQuQ</td>\n      <td>gebiRewfieSdtt17PTW6Zg</td>\n      <td>3</td>\n      <td>9</td>\n      <td>4</td>\n      <td>6</td>\n      <td>Not bad. Sushi roll was good but options were ...</td>\n      <td>2017-01-14 23:31:35.000000000</td>\n      <td>...</td>\n      <td>NaN</td>\n      <td>NaN</td>\n      <td>NaN</td>\n      <td>NaN</td>\n      <td>NaN</td>\n      <td>NaN</td>\n      <td>NaN</td>\n      <td>NaN</td>\n      <td>NaN</td>\n      <td>NaN</td>\n    </tr>\n    <tr>\n      <th>3</th>\n      <td>1378</td>\n      <td>URe-2Zlv7RoY4Ycr9JYVWw</td>\n      <td>SfMf7DEX7xT82OCcbZFsgQ</td>\n      <td>gebiRewfieSdtt17PTW6Zg</td>\n      <td>5</td>\n      <td>1</td>\n      <td>0</td>\n      <td>1</td>\n      <td>I'm very picky when it comes to Sushi. Quality...</td>\n      <td>2016-07-14 23:09:38.000000000</td>\n      <td>...</td>\n      <td>NaN</td>\n      <td>NaN</td>\n      <td>NaN</td>\n      <td>NaN</td>\n      <td>NaN</td>\n      <td>NaN</td>\n      <td>NaN</td>\n      <td>NaN</td>\n      <td>NaN</td>\n      <td>NaN</td>\n    </tr>\n    <tr>\n      <th>4</th>\n      <td>1379</td>\n      <td>tHP5ihPd_W9OzfkKEWdIwA</td>\n      <td>aH3AH7V9g60w4pt3LpJ1_Q</td>\n      <td>gebiRewfieSdtt17PTW6Zg</td>\n      <td>4</td>\n      <td>0</td>\n      <td>0</td>\n      <td>0</td>\n      <td>Even though the sushi masters are not actually...</td>\n      <td>2014-11-30 07:35:54.000000000</td>\n      <td>...</td>\n      <td>NaN</td>\n      <td>NaN</td>\n      <td>NaN</td>\n      <td>NaN</td>\n      <td>NaN</td>\n      <td>NaN</td>\n      <td>NaN</td>\n      <td>NaN</td>\n      <td>NaN</td>\n      <td>NaN</td>\n    </tr>\n    <tr>\n      <th>...</th>\n      <td>...</td>\n      <td>...</td>\n      <td>...</td>\n      <td>...</td>\n      <td>...</td>\n      <td>...</td>\n      <td>...</td>\n      <td>...</td>\n      <td>...</td>\n      <td>...</td>\n      <td>...</td>\n      <td>...</td>\n      <td>...</td>\n      <td>...</td>\n      <td>...</td>\n      <td>...</td>\n      <td>...</td>\n      <td>...</td>\n      <td>...</td>\n      <td>...</td>\n      <td>...</td>\n    </tr>\n    <tr>\n      <th>247608</th>\n      <td>6990221</td>\n      <td>cKuP5pnvbvpn4UbaccVcdg</td>\n      <td>OVYb1El25BgVhgbXb4e-KA</td>\n      <td>XPkkWyAkkPeH-PqXmBMmpg</td>\n      <td>5</td>\n      <td>0</td>\n      <td>0</td>\n      <td>0</td>\n      <td>Great experience with great people who are rea...</td>\n      <td>2021-06-22 21:41:07.000000000</td>\n      <td>...</td>\n      <td>NaN</td>\n      <td>NaN</td>\n      <td>NaN</td>\n      <td>NaN</td>\n      <td>NaN</td>\n      <td>NaN</td>\n      <td>NaN</td>\n      <td>NaN</td>\n      <td>NaN</td>\n      <td>NaN</td>\n    </tr>\n    <tr>\n      <th>247609</th>\n      <td>6990222</td>\n      <td>dZC87sZ1f2ntOf876_DDLg</td>\n      <td>9w5PoliouEyNikdy6DizqQ</td>\n      <td>XPkkWyAkkPeH-PqXmBMmpg</td>\n      <td>5</td>\n      <td>0</td>\n      <td>0</td>\n      <td>0</td>\n      <td>I spent the week in Santa Barbara and had the ...</td>\n      <td>2021-06-28 23:53:44.000000000</td>\n      <td>...</td>\n      <td>NaN</td>\n      <td>NaN</td>\n      <td>NaN</td>\n      <td>NaN</td>\n      <td>NaN</td>\n      <td>NaN</td>\n      <td>NaN</td>\n      <td>NaN</td>\n      <td>NaN</td>\n      <td>NaN</td>\n    </tr>\n    <tr>\n      <th>247610</th>\n      <td>6990223</td>\n      <td>NCafkcXIvK7E965my4RpQg</td>\n      <td>GmuHOkMR80oW3sAuF-UsAw</td>\n      <td>XPkkWyAkkPeH-PqXmBMmpg</td>\n      <td>5</td>\n      <td>0</td>\n      <td>0</td>\n      <td>0</td>\n      <td>Last summer, I had the pleasure of experiencin...</td>\n      <td>2021-07-06 19:15:56.000000000</td>\n      <td>...</td>\n      <td>NaN</td>\n      <td>NaN</td>\n      <td>NaN</td>\n      <td>NaN</td>\n      <td>NaN</td>\n      <td>NaN</td>\n      <td>NaN</td>\n      <td>NaN</td>\n      <td>NaN</td>\n      <td>NaN</td>\n    </tr>\n    <tr>\n      <th>247611</th>\n      <td>6990224</td>\n      <td>VxsNftGxRUDZcLD0Ns1wKg</td>\n      <td>VRXPOvlSydho0tYmSseKnQ</td>\n      <td>XPkkWyAkkPeH-PqXmBMmpg</td>\n      <td>5</td>\n      <td>0</td>\n      <td>0</td>\n      <td>0</td>\n      <td>Joseph and Teresa are super hosts.  You will f...</td>\n      <td>2021-07-01 03:44:10.000000000</td>\n      <td>...</td>\n      <td>NaN</td>\n      <td>NaN</td>\n      <td>NaN</td>\n      <td>NaN</td>\n      <td>NaN</td>\n      <td>NaN</td>\n      <td>NaN</td>\n      <td>NaN</td>\n      <td>NaN</td>\n      <td>NaN</td>\n    </tr>\n    <tr>\n      <th>247612</th>\n      <td>6990225</td>\n      <td>beFM3Lm5Pj6Spr8x6RV9Cg</td>\n      <td>uoYuvbxTCB0eu1UF4sUTcA</td>\n      <td>XPkkWyAkkPeH-PqXmBMmpg</td>\n      <td>5</td>\n      <td>0</td>\n      <td>0</td>\n      <td>1</td>\n      <td>I discovered Santa Barbara Tours and Experienc...</td>\n      <td>2021-07-27 20:41:20.000000000</td>\n      <td>...</td>\n      <td>NaN</td>\n      <td>NaN</td>\n      <td>NaN</td>\n      <td>NaN</td>\n      <td>NaN</td>\n      <td>NaN</td>\n      <td>NaN</td>\n      <td>NaN</td>\n      <td>NaN</td>\n      <td>NaN</td>\n    </tr>\n  </tbody>\n</table>\n<p>247613 rows × 62 columns</p>\n</div>"
     },
     "execution_count": 2,
     "metadata": {},
     "output_type": "execute_result"
    }
   ],
   "source": [
    "import ast\n",
    "from pandas import json_normalize\n",
    "def prepare_review_df(df):\n",
    "    \"\"\"\n",
    "    Prepare the reviews of CA\n",
    "    :param df: reviews dataframe \n",
    "    :return: ca_df with flatten \"attributes\" colums\n",
    "    \"\"\"\n",
    "    review_df = df.copy()\n",
    "    review_df['attributes'] = review_df['attributes'].apply(lambda x: ast.literal_eval(x) if pd.notna(x) else x)\n",
    "    #  flatten Json \n",
    "    flattened_attributes = json_normalize(review_df['attributes'])\n",
    "    # Combine the flattened attributes with the original DataFrame\n",
    "    review_df = pd.concat([review_df, flattened_attributes], axis=1)\n",
    "    return review_df\n",
    "review_df = prepare_review_df(ca_df)\n",
    "review_df "
   ],
   "metadata": {
    "collapsed": false,
    "ExecuteTime": {
     "end_time": "2024-04-07T17:11:46.444374Z",
     "start_time": "2024-04-07T17:11:34.356052Z"
    }
   },
   "id": "e05a490d8c1a5436",
   "execution_count": 2
  },
  {
   "cell_type": "code",
   "outputs": [],
   "source": [
    "# def prepare_aspect_df(df):\n",
    "#     \"\"\"\"\n",
    "#     In the aspect df, the first row contains most of the column names, with half of them being duplicates. We need to rename these columns to ensure they are unique.\n",
    "#     \"\"\"\n",
    "#     asp_df = df.iloc[:, 3:]\n",
    "#     aspect_names = asp_df.iloc[0].tolist()\n",
    "#     midpoint = len(aspect_names) // 2\n",
    "#     aspect_names = aspect_names[:midpoint] + [name + '-cfs' for name in aspect_names[midpoint:]]\n",
    "#     columns_name = ['restaurant_id','review_id'] + aspect_names\n",
    "#     print(\"columns_names\", columns_name)\n",
    "#     new_asp_df = df.iloc[1:, 1:]\n",
    "#     new_asp_df.columns = columns_name\n",
    "#     return new_asp_df\n",
    "# aspect_df = prepare_aspect_df(aspects_df)\n",
    "# aspect_df"
   ],
   "metadata": {
    "collapsed": false,
    "ExecuteTime": {
     "end_time": "2024-04-07T17:11:46.448155Z",
     "start_time": "2024-04-07T17:11:46.440735Z"
    }
   },
   "id": "8d242df1618c73c3",
   "execution_count": 3
  },
  {
   "cell_type": "code",
   "outputs": [
    {
     "data": {
      "text/plain": "      Unnamed: 0             business_id               review_id  \\\n0              0  -3AooxIkg38UyUdlz5oXdw  Bl1VqhkkGx7EoUrDOCFW8w   \n1              1  -3AooxIkg38UyUdlz5oXdw  KiU6B5XoFdT9l3MsGYPOZg   \n2              2  -3AooxIkg38UyUdlz5oXdw  V7Wt6sPCTGAqbYs8okNQ3w   \n3              3  -8iATYRnN46Km0_-ldx6cg  8xVsO5itmEY0xZ3u898AMg   \n4              4  -9r8nAzWyRSLxBWt8uQOdA  8kheTuGA9sPd6MVyXRr6Kw   \n...          ...                     ...                     ...   \n1848        1848  znlrxrY4InSx7ekPZxoHRw  zrif4eelRzkxnTcc5pNKiw   \n1849        1849  zpuFEeAhrNzXPkOlBf5Kog  lrvtEz4KpJhV8LUXL-mbuA   \n1850        1850  zpuFEeAhrNzXPkOlBf5Kog  v2VPYuS7Zkoqg6AkHjzc3Q   \n1851        1851  zu4p6IZLSVn2Noto-vcwzw  3Kinrkj2zeWKxh3nXyOfdw   \n1852        1852  zu4p6IZLSVn2Noto-vcwzw  P_CTZKjvAGPUHP1uX3oJIg   \n\n     ambiance_label atmosphere_label dessert_label drinks_label  \\\n0               NaN         Negative           NaN          NaN   \n1               NaN              NaN           NaN          NaN   \n2               NaN         Positive           NaN          NaN   \n3               NaN         Positive           NaN     Positive   \n4          Positive         Positive           NaN          NaN   \n...             ...              ...           ...          ...   \n1848            NaN         Positive           NaN          NaN   \n1849            NaN              NaN           NaN          NaN   \n1850            NaN         Negative           NaN          NaN   \n1851            NaN              NaN           NaN          NaN   \n1852            NaN              NaN           NaN          NaN   \n\n     entertainment_label experience_label food_label  ... seating_score  \\\n0                    NaN              NaN   Positive  ...           NaN   \n1                    NaN         Positive   Positive  ...           NaN   \n2                    NaN              NaN   Negative  ...           NaN   \n3                    NaN              NaN   Positive  ...           NaN   \n4                    NaN              NaN   Positive  ...           NaN   \n...                  ...              ...        ...  ...           ...   \n1848                 NaN              NaN   Positive  ...           NaN   \n1849                 NaN              NaN        NaN  ...           NaN   \n1850                 NaN              NaN        NaN  ...           NaN   \n1851                 NaN              NaN        NaN  ...           NaN   \n1852                 NaN              NaN        NaN  ...           NaN   \n\n     service_score setting_score space_score utilities_score  \\\n0         0.453472           NaN    0.537013             NaN   \n1              NaN           NaN         NaN             NaN   \n2         0.501830      0.630508    0.539700        0.574026   \n3              NaN      0.914718    0.992303             NaN   \n4              NaN           NaN         NaN             NaN   \n...            ...           ...         ...             ...   \n1848           NaN      0.952239    0.987540             NaN   \n1849      0.999866           NaN         NaN        0.931868   \n1850           NaN           NaN    0.677887             NaN   \n1851           NaN           NaN    0.666970             NaN   \n1852      0.952327           NaN    0.690127        0.629509   \n\n     waiting_time_score                                         categories  \\\n0              0.680859  Event Planning & Services, Restaurants, Nightl...   \n1              0.892360  Event Planning & Services, Restaurants, Nightl...   \n2                   NaN  Event Planning & Services, Restaurants, Nightl...   \n3                   NaN                  Food, Restaurants, American (New)   \n4                   NaN  Vegan, Asian Fusion, Bubble Tea, Restaurants, ...   \n...                 ...                                                ...   \n1848                NaN          Food, Ice Cream & Frozen Yogurt, Desserts   \n1849                NaN                           Steakhouses, Restaurants   \n1850                NaN                           Steakhouses, Restaurants   \n1851           0.581326  Breakfast & Brunch, Restaurants, American (Tra...   \n1852           0.625506  Breakfast & Brunch, Restaurants, American (Tra...   \n\n                                                   text  \\\n0     Had friends come in from out of town and they ...   \n1     My friend and I went to Santa Barbara for our ...   \n2     2.5-3 Overall\\n\\nPrice\\nIt's Santa Barbara, so...   \n3     What's not to love about this place?  I LOVE T...   \n4     The chicken bowl is definitely a must try! I a...   \n...                                                 ...   \n1848  This is my favorite place for ice cream and I ...   \n1849  There is a sign on the door letting you know t...   \n1850  why o why o why would you ever go to Outback w...   \n1851  went on a beautiful day, right on the beach. D...   \n1852  Note: This review is based strictly on service...   \n\n     RestaurantsPriceRange2 RestaurantsAttire  \n0                         2          'casual'  \n1                         2          'casual'  \n2                         2          'casual'  \n3                         2         u'casual'  \n4                         1         u'casual'  \n...                     ...               ...  \n1848                      2          'casual'  \n1849                      2          'casual'  \n1850                      2          'casual'  \n1851                      2         u'casual'  \n1852                      2         u'casual'  \n\n[1853 rows x 45 columns]",
      "text/html": "<div>\n<style scoped>\n    .dataframe tbody tr th:only-of-type {\n        vertical-align: middle;\n    }\n\n    .dataframe tbody tr th {\n        vertical-align: top;\n    }\n\n    .dataframe thead th {\n        text-align: right;\n    }\n</style>\n<table border=\"1\" class=\"dataframe\">\n  <thead>\n    <tr style=\"text-align: right;\">\n      <th></th>\n      <th>Unnamed: 0</th>\n      <th>business_id</th>\n      <th>review_id</th>\n      <th>ambiance_label</th>\n      <th>atmosphere_label</th>\n      <th>dessert_label</th>\n      <th>drinks_label</th>\n      <th>entertainment_label</th>\n      <th>experience_label</th>\n      <th>food_label</th>\n      <th>...</th>\n      <th>seating_score</th>\n      <th>service_score</th>\n      <th>setting_score</th>\n      <th>space_score</th>\n      <th>utilities_score</th>\n      <th>waiting_time_score</th>\n      <th>categories</th>\n      <th>text</th>\n      <th>RestaurantsPriceRange2</th>\n      <th>RestaurantsAttire</th>\n    </tr>\n  </thead>\n  <tbody>\n    <tr>\n      <th>0</th>\n      <td>0</td>\n      <td>-3AooxIkg38UyUdlz5oXdw</td>\n      <td>Bl1VqhkkGx7EoUrDOCFW8w</td>\n      <td>NaN</td>\n      <td>Negative</td>\n      <td>NaN</td>\n      <td>NaN</td>\n      <td>NaN</td>\n      <td>NaN</td>\n      <td>Positive</td>\n      <td>...</td>\n      <td>NaN</td>\n      <td>0.453472</td>\n      <td>NaN</td>\n      <td>0.537013</td>\n      <td>NaN</td>\n      <td>0.680859</td>\n      <td>Event Planning &amp; Services, Restaurants, Nightl...</td>\n      <td>Had friends come in from out of town and they ...</td>\n      <td>2</td>\n      <td>'casual'</td>\n    </tr>\n    <tr>\n      <th>1</th>\n      <td>1</td>\n      <td>-3AooxIkg38UyUdlz5oXdw</td>\n      <td>KiU6B5XoFdT9l3MsGYPOZg</td>\n      <td>NaN</td>\n      <td>NaN</td>\n      <td>NaN</td>\n      <td>NaN</td>\n      <td>NaN</td>\n      <td>Positive</td>\n      <td>Positive</td>\n      <td>...</td>\n      <td>NaN</td>\n      <td>NaN</td>\n      <td>NaN</td>\n      <td>NaN</td>\n      <td>NaN</td>\n      <td>0.892360</td>\n      <td>Event Planning &amp; Services, Restaurants, Nightl...</td>\n      <td>My friend and I went to Santa Barbara for our ...</td>\n      <td>2</td>\n      <td>'casual'</td>\n    </tr>\n    <tr>\n      <th>2</th>\n      <td>2</td>\n      <td>-3AooxIkg38UyUdlz5oXdw</td>\n      <td>V7Wt6sPCTGAqbYs8okNQ3w</td>\n      <td>NaN</td>\n      <td>Positive</td>\n      <td>NaN</td>\n      <td>NaN</td>\n      <td>NaN</td>\n      <td>NaN</td>\n      <td>Negative</td>\n      <td>...</td>\n      <td>NaN</td>\n      <td>0.501830</td>\n      <td>0.630508</td>\n      <td>0.539700</td>\n      <td>0.574026</td>\n      <td>NaN</td>\n      <td>Event Planning &amp; Services, Restaurants, Nightl...</td>\n      <td>2.5-3 Overall\\n\\nPrice\\nIt's Santa Barbara, so...</td>\n      <td>2</td>\n      <td>'casual'</td>\n    </tr>\n    <tr>\n      <th>3</th>\n      <td>3</td>\n      <td>-8iATYRnN46Km0_-ldx6cg</td>\n      <td>8xVsO5itmEY0xZ3u898AMg</td>\n      <td>NaN</td>\n      <td>Positive</td>\n      <td>NaN</td>\n      <td>Positive</td>\n      <td>NaN</td>\n      <td>NaN</td>\n      <td>Positive</td>\n      <td>...</td>\n      <td>NaN</td>\n      <td>NaN</td>\n      <td>0.914718</td>\n      <td>0.992303</td>\n      <td>NaN</td>\n      <td>NaN</td>\n      <td>Food, Restaurants, American (New)</td>\n      <td>What's not to love about this place?  I LOVE T...</td>\n      <td>2</td>\n      <td>u'casual'</td>\n    </tr>\n    <tr>\n      <th>4</th>\n      <td>4</td>\n      <td>-9r8nAzWyRSLxBWt8uQOdA</td>\n      <td>8kheTuGA9sPd6MVyXRr6Kw</td>\n      <td>Positive</td>\n      <td>Positive</td>\n      <td>NaN</td>\n      <td>NaN</td>\n      <td>NaN</td>\n      <td>NaN</td>\n      <td>Positive</td>\n      <td>...</td>\n      <td>NaN</td>\n      <td>NaN</td>\n      <td>NaN</td>\n      <td>NaN</td>\n      <td>NaN</td>\n      <td>NaN</td>\n      <td>Vegan, Asian Fusion, Bubble Tea, Restaurants, ...</td>\n      <td>The chicken bowl is definitely a must try! I a...</td>\n      <td>1</td>\n      <td>u'casual'</td>\n    </tr>\n    <tr>\n      <th>...</th>\n      <td>...</td>\n      <td>...</td>\n      <td>...</td>\n      <td>...</td>\n      <td>...</td>\n      <td>...</td>\n      <td>...</td>\n      <td>...</td>\n      <td>...</td>\n      <td>...</td>\n      <td>...</td>\n      <td>...</td>\n      <td>...</td>\n      <td>...</td>\n      <td>...</td>\n      <td>...</td>\n      <td>...</td>\n      <td>...</td>\n      <td>...</td>\n      <td>...</td>\n      <td>...</td>\n    </tr>\n    <tr>\n      <th>1848</th>\n      <td>1848</td>\n      <td>znlrxrY4InSx7ekPZxoHRw</td>\n      <td>zrif4eelRzkxnTcc5pNKiw</td>\n      <td>NaN</td>\n      <td>Positive</td>\n      <td>NaN</td>\n      <td>NaN</td>\n      <td>NaN</td>\n      <td>NaN</td>\n      <td>Positive</td>\n      <td>...</td>\n      <td>NaN</td>\n      <td>NaN</td>\n      <td>0.952239</td>\n      <td>0.987540</td>\n      <td>NaN</td>\n      <td>NaN</td>\n      <td>Food, Ice Cream &amp; Frozen Yogurt, Desserts</td>\n      <td>This is my favorite place for ice cream and I ...</td>\n      <td>2</td>\n      <td>'casual'</td>\n    </tr>\n    <tr>\n      <th>1849</th>\n      <td>1849</td>\n      <td>zpuFEeAhrNzXPkOlBf5Kog</td>\n      <td>lrvtEz4KpJhV8LUXL-mbuA</td>\n      <td>NaN</td>\n      <td>NaN</td>\n      <td>NaN</td>\n      <td>NaN</td>\n      <td>NaN</td>\n      <td>NaN</td>\n      <td>NaN</td>\n      <td>...</td>\n      <td>NaN</td>\n      <td>0.999866</td>\n      <td>NaN</td>\n      <td>NaN</td>\n      <td>0.931868</td>\n      <td>NaN</td>\n      <td>Steakhouses, Restaurants</td>\n      <td>There is a sign on the door letting you know t...</td>\n      <td>2</td>\n      <td>'casual'</td>\n    </tr>\n    <tr>\n      <th>1850</th>\n      <td>1850</td>\n      <td>zpuFEeAhrNzXPkOlBf5Kog</td>\n      <td>v2VPYuS7Zkoqg6AkHjzc3Q</td>\n      <td>NaN</td>\n      <td>Negative</td>\n      <td>NaN</td>\n      <td>NaN</td>\n      <td>NaN</td>\n      <td>NaN</td>\n      <td>NaN</td>\n      <td>...</td>\n      <td>NaN</td>\n      <td>NaN</td>\n      <td>NaN</td>\n      <td>0.677887</td>\n      <td>NaN</td>\n      <td>NaN</td>\n      <td>Steakhouses, Restaurants</td>\n      <td>why o why o why would you ever go to Outback w...</td>\n      <td>2</td>\n      <td>'casual'</td>\n    </tr>\n    <tr>\n      <th>1851</th>\n      <td>1851</td>\n      <td>zu4p6IZLSVn2Noto-vcwzw</td>\n      <td>3Kinrkj2zeWKxh3nXyOfdw</td>\n      <td>NaN</td>\n      <td>NaN</td>\n      <td>NaN</td>\n      <td>NaN</td>\n      <td>NaN</td>\n      <td>NaN</td>\n      <td>NaN</td>\n      <td>...</td>\n      <td>NaN</td>\n      <td>NaN</td>\n      <td>NaN</td>\n      <td>0.666970</td>\n      <td>NaN</td>\n      <td>0.581326</td>\n      <td>Breakfast &amp; Brunch, Restaurants, American (Tra...</td>\n      <td>went on a beautiful day, right on the beach. D...</td>\n      <td>2</td>\n      <td>u'casual'</td>\n    </tr>\n    <tr>\n      <th>1852</th>\n      <td>1852</td>\n      <td>zu4p6IZLSVn2Noto-vcwzw</td>\n      <td>P_CTZKjvAGPUHP1uX3oJIg</td>\n      <td>NaN</td>\n      <td>NaN</td>\n      <td>NaN</td>\n      <td>NaN</td>\n      <td>NaN</td>\n      <td>NaN</td>\n      <td>NaN</td>\n      <td>...</td>\n      <td>NaN</td>\n      <td>0.952327</td>\n      <td>NaN</td>\n      <td>0.690127</td>\n      <td>0.629509</td>\n      <td>0.625506</td>\n      <td>Breakfast &amp; Brunch, Restaurants, American (Tra...</td>\n      <td>Note: This review is based strictly on service...</td>\n      <td>2</td>\n      <td>u'casual'</td>\n    </tr>\n  </tbody>\n</table>\n<p>1853 rows × 45 columns</p>\n</div>"
     },
     "execution_count": 4,
     "metadata": {},
     "output_type": "execute_result"
    }
   ],
   "source": [
    "# get final df\n",
    "df = pd.merge(aspects_df, review_df[['review_id', 'categories', 'text','RestaurantsPriceRange2', 'RestaurantsAttire']], on='review_id', how='left')\n",
    "df"
   ],
   "metadata": {
    "collapsed": false,
    "ExecuteTime": {
     "end_time": "2024-04-07T17:11:46.823226Z",
     "start_time": "2024-04-07T17:11:46.442755Z"
    }
   },
   "id": "57d10bc25b8aca6c",
   "execution_count": 4
  },
  {
   "cell_type": "markdown",
   "source": [
    "#### 2. Filter similar restaurants by Price Range and Restaurant Category Descriptions\n",
    "2 key steps:\n",
    "1) filter by price range (column RestaurantsPriceRange2). if it does not have a specific range number(Nan), return all restaurants\n",
    "2) get cosine similarity higher than 0.65 based on restaurant type categories."
   ],
   "metadata": {
    "collapsed": false
   },
   "id": "4004ee2d870ee568"
  },
  {
   "cell_type": "code",
   "outputs": [
    {
     "data": {
      "text/plain": "                 business_id  \\\n0     -3AooxIkg38UyUdlz5oXdw   \n3     -8iATYRnN46Km0_-ldx6cg   \n4     -9r8nAzWyRSLxBWt8uQOdA   \n7     -BdYhP-12elmFV7oB1iv4A   \n8     -FM4CxOg4XXmX_Ebky_SiQ   \n...                      ...   \n1834  ziXR7sUrbKRCNeDqfjibUg   \n1836  zkMqKD6IZPcU10g0a2APmg   \n1837  znlrxrY4InSx7ekPZxoHRw   \n1849  zpuFEeAhrNzXPkOlBf5Kog   \n1851  zu4p6IZLSVn2Noto-vcwzw   \n\n                                             categories  \\\n0     Event Planning & Services, Restaurants, Nightl...   \n3                     Food, Restaurants, American (New)   \n4     Vegan, Asian Fusion, Bubble Tea, Restaurants, ...   \n7     Restaurants, Gastropubs, Cocktail Bars, Bars, ...   \n8     Breakfast & Brunch, American (New), Restaurant...   \n...                                                 ...   \n1834           Restaurants, Mexican, Breakfast & Brunch   \n1836  Wine Bars, Bars, Shopping, Beer Bar, Tobacco S...   \n1837          Food, Ice Cream & Frozen Yogurt, Desserts   \n1849                           Steakhouses, Restaurants   \n1851  Breakfast & Brunch, Restaurants, American (Tra...   \n\n     RestaurantsPriceRange2 RestaurantsAttire  \n0                         2          'casual'  \n3                         2         u'casual'  \n4                         1         u'casual'  \n7                       NaN               NaN  \n8                         2         u'casual'  \n...                     ...               ...  \n1834                      1          'casual'  \n1836                      2               NaN  \n1837                      2          'casual'  \n1849                      2          'casual'  \n1851                      2         u'casual'  \n\n[712 rows x 4 columns]",
      "text/html": "<div>\n<style scoped>\n    .dataframe tbody tr th:only-of-type {\n        vertical-align: middle;\n    }\n\n    .dataframe tbody tr th {\n        vertical-align: top;\n    }\n\n    .dataframe thead th {\n        text-align: right;\n    }\n</style>\n<table border=\"1\" class=\"dataframe\">\n  <thead>\n    <tr style=\"text-align: right;\">\n      <th></th>\n      <th>business_id</th>\n      <th>categories</th>\n      <th>RestaurantsPriceRange2</th>\n      <th>RestaurantsAttire</th>\n    </tr>\n  </thead>\n  <tbody>\n    <tr>\n      <th>0</th>\n      <td>-3AooxIkg38UyUdlz5oXdw</td>\n      <td>Event Planning &amp; Services, Restaurants, Nightl...</td>\n      <td>2</td>\n      <td>'casual'</td>\n    </tr>\n    <tr>\n      <th>3</th>\n      <td>-8iATYRnN46Km0_-ldx6cg</td>\n      <td>Food, Restaurants, American (New)</td>\n      <td>2</td>\n      <td>u'casual'</td>\n    </tr>\n    <tr>\n      <th>4</th>\n      <td>-9r8nAzWyRSLxBWt8uQOdA</td>\n      <td>Vegan, Asian Fusion, Bubble Tea, Restaurants, ...</td>\n      <td>1</td>\n      <td>u'casual'</td>\n    </tr>\n    <tr>\n      <th>7</th>\n      <td>-BdYhP-12elmFV7oB1iv4A</td>\n      <td>Restaurants, Gastropubs, Cocktail Bars, Bars, ...</td>\n      <td>NaN</td>\n      <td>NaN</td>\n    </tr>\n    <tr>\n      <th>8</th>\n      <td>-FM4CxOg4XXmX_Ebky_SiQ</td>\n      <td>Breakfast &amp; Brunch, American (New), Restaurant...</td>\n      <td>2</td>\n      <td>u'casual'</td>\n    </tr>\n    <tr>\n      <th>...</th>\n      <td>...</td>\n      <td>...</td>\n      <td>...</td>\n      <td>...</td>\n    </tr>\n    <tr>\n      <th>1834</th>\n      <td>ziXR7sUrbKRCNeDqfjibUg</td>\n      <td>Restaurants, Mexican, Breakfast &amp; Brunch</td>\n      <td>1</td>\n      <td>'casual'</td>\n    </tr>\n    <tr>\n      <th>1836</th>\n      <td>zkMqKD6IZPcU10g0a2APmg</td>\n      <td>Wine Bars, Bars, Shopping, Beer Bar, Tobacco S...</td>\n      <td>2</td>\n      <td>NaN</td>\n    </tr>\n    <tr>\n      <th>1837</th>\n      <td>znlrxrY4InSx7ekPZxoHRw</td>\n      <td>Food, Ice Cream &amp; Frozen Yogurt, Desserts</td>\n      <td>2</td>\n      <td>'casual'</td>\n    </tr>\n    <tr>\n      <th>1849</th>\n      <td>zpuFEeAhrNzXPkOlBf5Kog</td>\n      <td>Steakhouses, Restaurants</td>\n      <td>2</td>\n      <td>'casual'</td>\n    </tr>\n    <tr>\n      <th>1851</th>\n      <td>zu4p6IZLSVn2Noto-vcwzw</td>\n      <td>Breakfast &amp; Brunch, Restaurants, American (Tra...</td>\n      <td>2</td>\n      <td>u'casual'</td>\n    </tr>\n  </tbody>\n</table>\n<p>712 rows × 4 columns</p>\n</div>"
     },
     "execution_count": 5,
     "metadata": {},
     "output_type": "execute_result"
    }
   ],
   "source": [
    "# get unique restaurants in the dataset\n",
    "res_df = df[['business_id', 'categories', 'RestaurantsPriceRange2', 'RestaurantsAttire']].drop_duplicates()\n",
    "res_df"
   ],
   "metadata": {
    "collapsed": false,
    "ExecuteTime": {
     "end_time": "2024-04-07T17:11:46.828302Z",
     "start_time": "2024-04-07T17:11:46.819648Z"
    }
   },
   "id": "be8577cb3cf29867",
   "execution_count": 5
  },
  {
   "cell_type": "code",
   "outputs": [],
   "source": [
    "# functions for get name and id by each other\n",
    "restaurant_names_and_ids = ca_df[['name', 'business_id']].drop_duplicates()\n",
    "restaurant_names_ids = restaurant_names_and_ids.copy()\n",
    "restaurant_names_ids.set_index('name', inplace=True)\n",
    "restaurant_ids_names = restaurant_names_and_ids.copy() \n",
    "restaurant_ids_names.set_index('business_id', inplace=True)\n",
    "def get_resaurant_id_by_name(name):\n",
    "    name = name.strip()\n",
    "    return restaurant_names_ids.loc[name]['business_id']\n",
    "def get_resaurant_name_by_id(id):\n",
    "    id = id.strip()\n",
    "    return restaurant_ids_names.loc[id]['name']"
   ],
   "metadata": {
    "collapsed": false,
    "ExecuteTime": {
     "end_time": "2024-04-07T17:11:46.906727Z",
     "start_time": "2024-04-07T17:11:46.828122Z"
    }
   },
   "id": "82b799794edd7019",
   "execution_count": 6
  },
  {
   "cell_type": "code",
   "outputs": [
    {
     "data": {
      "text/plain": "                 business_id  \\\n0     -3AooxIkg38UyUdlz5oXdw   \n3     -8iATYRnN46Km0_-ldx6cg   \n8     -FM4CxOg4XXmX_Ebky_SiQ   \n22    -H-fZonTLitwHFY_PLAIjA   \n24    -I7M6l0h46VdiN09Y1NUZw   \n...                      ...   \n1831  zeAfmYy9b1gfUJLRBHm6vQ   \n1836  zkMqKD6IZPcU10g0a2APmg   \n1837  znlrxrY4InSx7ekPZxoHRw   \n1849  zpuFEeAhrNzXPkOlBf5Kog   \n1851  zu4p6IZLSVn2Noto-vcwzw   \n\n                                             categories  \\\n0     Event Planning & Services, Restaurants, Nightl...   \n3                     Food, Restaurants, American (New)   \n8     Breakfast & Brunch, American (New), Restaurant...   \n22                                   Restaurants, Pizza   \n24    Gluten-Free, Gastropubs, Vegan, Restaurants, I...   \n...                                                 ...   \n1831                               Restaurants, Italian   \n1836  Wine Bars, Bars, Shopping, Beer Bar, Tobacco S...   \n1837          Food, Ice Cream & Frozen Yogurt, Desserts   \n1849                           Steakhouses, Restaurants   \n1851  Breakfast & Brunch, Restaurants, American (Tra...   \n\n     RestaurantsPriceRange2 RestaurantsAttire  \n0                         2          'casual'  \n3                         2         u'casual'  \n8                         2         u'casual'  \n22                        2         u'casual'  \n24                        2               nan  \n...                     ...               ...  \n1831                      2         u'casual'  \n1836                      2               nan  \n1837                      2          'casual'  \n1849                      2          'casual'  \n1851                      2         u'casual'  \n\n[463 rows x 4 columns]",
      "text/html": "<div>\n<style scoped>\n    .dataframe tbody tr th:only-of-type {\n        vertical-align: middle;\n    }\n\n    .dataframe tbody tr th {\n        vertical-align: top;\n    }\n\n    .dataframe thead th {\n        text-align: right;\n    }\n</style>\n<table border=\"1\" class=\"dataframe\">\n  <thead>\n    <tr style=\"text-align: right;\">\n      <th></th>\n      <th>business_id</th>\n      <th>categories</th>\n      <th>RestaurantsPriceRange2</th>\n      <th>RestaurantsAttire</th>\n    </tr>\n  </thead>\n  <tbody>\n    <tr>\n      <th>0</th>\n      <td>-3AooxIkg38UyUdlz5oXdw</td>\n      <td>Event Planning &amp; Services, Restaurants, Nightl...</td>\n      <td>2</td>\n      <td>'casual'</td>\n    </tr>\n    <tr>\n      <th>3</th>\n      <td>-8iATYRnN46Km0_-ldx6cg</td>\n      <td>Food, Restaurants, American (New)</td>\n      <td>2</td>\n      <td>u'casual'</td>\n    </tr>\n    <tr>\n      <th>8</th>\n      <td>-FM4CxOg4XXmX_Ebky_SiQ</td>\n      <td>Breakfast &amp; Brunch, American (New), Restaurant...</td>\n      <td>2</td>\n      <td>u'casual'</td>\n    </tr>\n    <tr>\n      <th>22</th>\n      <td>-H-fZonTLitwHFY_PLAIjA</td>\n      <td>Restaurants, Pizza</td>\n      <td>2</td>\n      <td>u'casual'</td>\n    </tr>\n    <tr>\n      <th>24</th>\n      <td>-I7M6l0h46VdiN09Y1NUZw</td>\n      <td>Gluten-Free, Gastropubs, Vegan, Restaurants, I...</td>\n      <td>2</td>\n      <td>nan</td>\n    </tr>\n    <tr>\n      <th>...</th>\n      <td>...</td>\n      <td>...</td>\n      <td>...</td>\n      <td>...</td>\n    </tr>\n    <tr>\n      <th>1831</th>\n      <td>zeAfmYy9b1gfUJLRBHm6vQ</td>\n      <td>Restaurants, Italian</td>\n      <td>2</td>\n      <td>u'casual'</td>\n    </tr>\n    <tr>\n      <th>1836</th>\n      <td>zkMqKD6IZPcU10g0a2APmg</td>\n      <td>Wine Bars, Bars, Shopping, Beer Bar, Tobacco S...</td>\n      <td>2</td>\n      <td>nan</td>\n    </tr>\n    <tr>\n      <th>1837</th>\n      <td>znlrxrY4InSx7ekPZxoHRw</td>\n      <td>Food, Ice Cream &amp; Frozen Yogurt, Desserts</td>\n      <td>2</td>\n      <td>'casual'</td>\n    </tr>\n    <tr>\n      <th>1849</th>\n      <td>zpuFEeAhrNzXPkOlBf5Kog</td>\n      <td>Steakhouses, Restaurants</td>\n      <td>2</td>\n      <td>'casual'</td>\n    </tr>\n    <tr>\n      <th>1851</th>\n      <td>zu4p6IZLSVn2Noto-vcwzw</td>\n      <td>Breakfast &amp; Brunch, Restaurants, American (Tra...</td>\n      <td>2</td>\n      <td>u'casual'</td>\n    </tr>\n  </tbody>\n</table>\n<p>463 rows × 4 columns</p>\n</div>"
     },
     "execution_count": 7,
     "metadata": {},
     "output_type": "execute_result"
    }
   ],
   "source": [
    "# input_id = get_resaurant_id_by_name(\"Corner Tap Room\")\n",
    "input_asp = \"kid friendly\"\n",
    "input_id = \"-H-fZonTLitwHFY_PLAIjA\"\n",
    "def filter_restaurants_by_price(input_id):\n",
    "    #1.filter restaurants at the same price segment, we only keep restaurants in the same price range\n",
    "    input_row = res_df[res_df['business_id'] == input_id]\n",
    "    price_segment = input_row['RestaurantsPriceRange2'].iloc[0]\n",
    "    if not pd.isna(price_segment):\n",
    "        filtered_res = res_df[res_df['RestaurantsPriceRange2'] == price_segment].copy()\n",
    "    else:\n",
    "        filtered_res = res_df.copy()\n",
    "    filtered_res['RestaurantsAttire'] = filtered_res['RestaurantsAttire'].astype(str)\n",
    "    return filtered_res\n",
    "filtered_res = filter_restaurants_by_price(input_id)\n",
    "filtered_res"
   ],
   "metadata": {
    "collapsed": false,
    "ExecuteTime": {
     "end_time": "2024-04-07T17:11:46.917188Z",
     "start_time": "2024-04-07T17:11:46.859484Z"
    }
   },
   "id": "5a8b94dac0bf139b",
   "execution_count": 7
  },
  {
   "cell_type": "code",
   "outputs": [
    {
     "data": {
      "text/plain": "array([\"'casual'\", \"u'casual'\", nan, \"u'dressy'\", \"'dressy'\"],\n      dtype=object)"
     },
     "execution_count": 8,
     "metadata": {},
     "output_type": "execute_result"
    }
   ],
   "source": [
    "df['RestaurantsAttire'].unique()"
   ],
   "metadata": {
    "collapsed": false,
    "ExecuteTime": {
     "end_time": "2024-04-07T17:11:46.917788Z",
     "start_time": "2024-04-07T17:11:46.865289Z"
    }
   },
   "id": "801a067a0ddca759",
   "execution_count": 8
  },
  {
   "cell_type": "code",
   "outputs": [
    {
     "data": {
      "text/plain": "     index             business_id  \\\n0        0  -3AooxIkg38UyUdlz5oXdw   \n1        3  -8iATYRnN46Km0_-ldx6cg   \n2        8  -FM4CxOg4XXmX_Ebky_SiQ   \n3       22  -H-fZonTLitwHFY_PLAIjA   \n4       24  -I7M6l0h46VdiN09Y1NUZw   \n..     ...                     ...   \n458   1831  zeAfmYy9b1gfUJLRBHm6vQ   \n459   1836  zkMqKD6IZPcU10g0a2APmg   \n460   1837  znlrxrY4InSx7ekPZxoHRw   \n461   1849  zpuFEeAhrNzXPkOlBf5Kog   \n462   1851  zu4p6IZLSVn2Noto-vcwzw   \n\n                                            categories RestaurantsPriceRange2  \\\n0    Event Planning & Services, Restaurants, Nightl...                      2   \n1                    Food, Restaurants, American (New)                      2   \n2    Breakfast & Brunch, American (New), Restaurant...                      2   \n3                                   Restaurants, Pizza                      2   \n4    Gluten-Free, Gastropubs, Vegan, Restaurants, I...                      2   \n..                                                 ...                    ...   \n458                               Restaurants, Italian                      2   \n459  Wine Bars, Bars, Shopping, Beer Bar, Tobacco S...                      2   \n460          Food, Ice Cream & Frozen Yogurt, Desserts                      2   \n461                           Steakhouses, Restaurants                      2   \n462  Breakfast & Brunch, Restaurants, American (Tra...                      2   \n\n    RestaurantsAttire                                             corpus  \n0            'casual'  Event Planning & Services Nightlife Caterers I...  \n1           u'casual'                              American (New) casual  \n2           u'casual'  Breakfast & Brunch American (New) American (Tr...  \n3           u'casual'                                       Pizza casual  \n4                 nan                Gluten-Free Gastropubs Vegan Indian  \n..                ...                                                ...  \n458         u'casual'                                     Italian casual  \n459               nan  Wine Bars Bars Shopping Beer Bar Tobacco Shops...  \n460          'casual'          Ice Cream & Frozen Yogurt Desserts casual  \n461          'casual'                                 Steakhouses casual  \n462         u'casual'   Breakfast & Brunch American (Traditional) casual  \n\n[463 rows x 6 columns]",
      "text/html": "<div>\n<style scoped>\n    .dataframe tbody tr th:only-of-type {\n        vertical-align: middle;\n    }\n\n    .dataframe tbody tr th {\n        vertical-align: top;\n    }\n\n    .dataframe thead th {\n        text-align: right;\n    }\n</style>\n<table border=\"1\" class=\"dataframe\">\n  <thead>\n    <tr style=\"text-align: right;\">\n      <th></th>\n      <th>index</th>\n      <th>business_id</th>\n      <th>categories</th>\n      <th>RestaurantsPriceRange2</th>\n      <th>RestaurantsAttire</th>\n      <th>corpus</th>\n    </tr>\n  </thead>\n  <tbody>\n    <tr>\n      <th>0</th>\n      <td>0</td>\n      <td>-3AooxIkg38UyUdlz5oXdw</td>\n      <td>Event Planning &amp; Services, Restaurants, Nightl...</td>\n      <td>2</td>\n      <td>'casual'</td>\n      <td>Event Planning &amp; Services Nightlife Caterers I...</td>\n    </tr>\n    <tr>\n      <th>1</th>\n      <td>3</td>\n      <td>-8iATYRnN46Km0_-ldx6cg</td>\n      <td>Food, Restaurants, American (New)</td>\n      <td>2</td>\n      <td>u'casual'</td>\n      <td>American (New) casual</td>\n    </tr>\n    <tr>\n      <th>2</th>\n      <td>8</td>\n      <td>-FM4CxOg4XXmX_Ebky_SiQ</td>\n      <td>Breakfast &amp; Brunch, American (New), Restaurant...</td>\n      <td>2</td>\n      <td>u'casual'</td>\n      <td>Breakfast &amp; Brunch American (New) American (Tr...</td>\n    </tr>\n    <tr>\n      <th>3</th>\n      <td>22</td>\n      <td>-H-fZonTLitwHFY_PLAIjA</td>\n      <td>Restaurants, Pizza</td>\n      <td>2</td>\n      <td>u'casual'</td>\n      <td>Pizza casual</td>\n    </tr>\n    <tr>\n      <th>4</th>\n      <td>24</td>\n      <td>-I7M6l0h46VdiN09Y1NUZw</td>\n      <td>Gluten-Free, Gastropubs, Vegan, Restaurants, I...</td>\n      <td>2</td>\n      <td>nan</td>\n      <td>Gluten-Free Gastropubs Vegan Indian</td>\n    </tr>\n    <tr>\n      <th>...</th>\n      <td>...</td>\n      <td>...</td>\n      <td>...</td>\n      <td>...</td>\n      <td>...</td>\n      <td>...</td>\n    </tr>\n    <tr>\n      <th>458</th>\n      <td>1831</td>\n      <td>zeAfmYy9b1gfUJLRBHm6vQ</td>\n      <td>Restaurants, Italian</td>\n      <td>2</td>\n      <td>u'casual'</td>\n      <td>Italian casual</td>\n    </tr>\n    <tr>\n      <th>459</th>\n      <td>1836</td>\n      <td>zkMqKD6IZPcU10g0a2APmg</td>\n      <td>Wine Bars, Bars, Shopping, Beer Bar, Tobacco S...</td>\n      <td>2</td>\n      <td>nan</td>\n      <td>Wine Bars Bars Shopping Beer Bar Tobacco Shops...</td>\n    </tr>\n    <tr>\n      <th>460</th>\n      <td>1837</td>\n      <td>znlrxrY4InSx7ekPZxoHRw</td>\n      <td>Food, Ice Cream &amp; Frozen Yogurt, Desserts</td>\n      <td>2</td>\n      <td>'casual'</td>\n      <td>Ice Cream &amp; Frozen Yogurt Desserts casual</td>\n    </tr>\n    <tr>\n      <th>461</th>\n      <td>1849</td>\n      <td>zpuFEeAhrNzXPkOlBf5Kog</td>\n      <td>Steakhouses, Restaurants</td>\n      <td>2</td>\n      <td>'casual'</td>\n      <td>Steakhouses casual</td>\n    </tr>\n    <tr>\n      <th>462</th>\n      <td>1851</td>\n      <td>zu4p6IZLSVn2Noto-vcwzw</td>\n      <td>Breakfast &amp; Brunch, Restaurants, American (Tra...</td>\n      <td>2</td>\n      <td>u'casual'</td>\n      <td>Breakfast &amp; Brunch American (Traditional) casual</td>\n    </tr>\n  </tbody>\n</table>\n<p>463 rows × 6 columns</p>\n</div>"
     },
     "execution_count": 9,
     "metadata": {},
     "output_type": "execute_result"
    }
   ],
   "source": [
    "# clean RestaurantsAttire column, only keep casual, dressy key words, remove ' ', NaN, and u' ' \n",
    "def create_corpus(x):\n",
    "    format_word = lambda word: \"\" if word == \"nan\" else \" \" + word\n",
    "    res_attr = x['RestaurantsAttire'].strip(\"u\").strip(\"'\")\n",
    "    categories = [cate for cate in x['categories'].split(', ') if cate not in ['Restaurants','Food']]\n",
    "    return ' '.join(categories) + format_word(res_attr)\n",
    "filtered_res['corpus'] = filtered_res.apply(create_corpus, axis=1)\n",
    "filtered_res.reset_index(inplace=True)\n",
    "filtered_res"
   ],
   "metadata": {
    "collapsed": false,
    "ExecuteTime": {
     "end_time": "2024-04-07T17:11:46.918339Z",
     "start_time": "2024-04-07T17:11:46.874880Z"
    }
   },
   "id": "5ea9cc4a8906e693",
   "execution_count": 9
  },
  {
   "cell_type": "code",
   "outputs": [
    {
     "data": {
      "text/plain": "business_id\n-3AooxIkg38UyUdlz5oXdw      0\n-8iATYRnN46Km0_-ldx6cg      1\n-FM4CxOg4XXmX_Ebky_SiQ      2\n-H-fZonTLitwHFY_PLAIjA      3\n-I7M6l0h46VdiN09Y1NUZw      4\n                         ... \nzeAfmYy9b1gfUJLRBHm6vQ    458\nzkMqKD6IZPcU10g0a2APmg    459\nznlrxrY4InSx7ekPZxoHRw    460\nzpuFEeAhrNzXPkOlBf5Kog    461\nzu4p6IZLSVn2Noto-vcwzw    462\nLength: 463, dtype: int64"
     },
     "execution_count": 10,
     "metadata": {},
     "output_type": "execute_result"
    }
   ],
   "source": [
    "#create indices to locate indices and rest_id\n",
    "indices = pd.Series(filtered_res.index, index=filtered_res['business_id']).drop_duplicates()\n",
    "indices"
   ],
   "metadata": {
    "collapsed": false,
    "ExecuteTime": {
     "end_time": "2024-04-07T17:11:46.948175Z",
     "start_time": "2024-04-07T17:11:46.880992Z"
    }
   },
   "id": "2226b44efb721073",
   "execution_count": 10
  },
  {
   "cell_type": "code",
   "outputs": [
    {
     "data": {
      "text/plain": "array([[1.        , 0.20412415, 0.31980107, ..., 0.14433757, 0.25      ,\n        0.15811388],\n       [0.20412415, 1.        , 0.69631062, ..., 0.23570226, 0.40824829,\n        0.51639778],\n       [0.31980107, 0.69631062, 1.        , ..., 0.12309149, 0.21320072,\n        0.80903983],\n       ...,\n       [0.14433757, 0.23570226, 0.12309149, ..., 1.        , 0.28867513,\n        0.18257419],\n       [0.25      , 0.40824829, 0.21320072, ..., 0.28867513, 1.        ,\n        0.31622777],\n       [0.15811388, 0.51639778, 0.80903983, ..., 0.18257419, 0.31622777,\n        1.        ]])"
     },
     "execution_count": 11,
     "metadata": {},
     "output_type": "execute_result"
    }
   ],
   "source": [
    "from sklearn.feature_extraction.text import CountVectorizer\n",
    "from sklearn.metrics.pairwise import cosine_similarity\n",
    "\n",
    "# 2.Compute the Cosine Similarity matrix based on the count_matrix\n",
    "def computer_cosine_sim_matrix(corpus):\n",
    "    \n",
    "    count = CountVectorizer(stop_words='english')\n",
    "    count_matrix = count.fit_transform(corpus)\n",
    "    \n",
    "    cosine_sim = cosine_similarity(count_matrix, count_matrix)\n",
    "    return cosine_sim\n",
    "cosine_sim = computer_cosine_sim_matrix(filtered_res['corpus'])\n",
    "cosine_sim"
   ],
   "metadata": {
    "collapsed": false,
    "ExecuteTime": {
     "end_time": "2024-04-07T17:11:47.056679Z",
     "start_time": "2024-04-07T17:11:46.889978Z"
    }
   },
   "id": "164b59a2033fa0c",
   "execution_count": 11
  },
  {
   "cell_type": "code",
   "outputs": [
    {
     "name": "stdout",
     "output_type": "stream",
     "text": [
      "There are 14 similar unique restaurants found\n"
     ]
    }
   ],
   "source": [
    "# 3. get most similar restaurants for the target restaurant\n",
    "def similar_restaurants(indices, cosine_sim, input_id, df):\n",
    "    \n",
    "    idx = indices[input_id]\n",
    "    # Get the pairwsie similarity scores of all filtered restaurant with the input restaurant\n",
    "    sim_scores = list(enumerate(cosine_sim[idx]))\n",
    "    \n",
    "    # Sort the movies based on the similarity scores\n",
    "    sim_scores = sorted(sim_scores, key=lambda x: x[1], reverse=True)\n",
    "    \n",
    "    # Get the scores of the restaurants with similarity score above 0.7\n",
    "    sim_scores = [pair for pair in sim_scores[1:] if pair[1] >= 0.7]\n",
    "    \n",
    "    # Get the restaurants indices\n",
    "    res_indices = [i[0] for i in sim_scores]\n",
    "    print(\"There are {} similar unique restaurants found\".format(len(res_indices)))\n",
    "    # get the most similar restaurants id in a list\n",
    "    most_similar_res = df['business_id'].iloc[res_indices].tolist()\n",
    "    return most_similar_res\n",
    "most_similar_res = similar_restaurants(indices, cosine_sim, input_id, filtered_res)"
   ],
   "metadata": {
    "collapsed": false,
    "ExecuteTime": {
     "end_time": "2024-04-07T17:11:47.061797Z",
     "start_time": "2024-04-07T17:11:47.057735Z"
    }
   },
   "id": "a4bb0a5eb6d07969",
   "execution_count": 12
  },
  {
   "cell_type": "markdown",
   "source": [
    "#### 3. Get positive review for the silimar restaurants\n",
    "Sort by input aspect confidence score, Get positive reviews from the similar restaurants"
   ],
   "metadata": {
    "collapsed": false
   },
   "id": "c6c8499b85bde0d4"
  },
  {
   "cell_type": "code",
   "outputs": [],
   "source": [],
   "metadata": {
    "collapsed": false,
    "ExecuteTime": {
     "end_time": "2024-04-07T17:11:47.062840Z",
     "start_time": "2024-04-07T17:11:47.060785Z"
    }
   },
   "id": "9bca8dc0e3ce948a",
   "execution_count": 12
  },
  {
   "cell_type": "code",
   "outputs": [
    {
     "name": "stdout",
     "output_type": "stream",
     "text": [
      "Review: Delicious authentic Italian food, friendly and professional waitstaff. Portions are not huge (but do we really need that much pasta anyway? ). Nice yet comfortable atmosphere and kid friendly. We have been going to Via Vai since we moved to the area almost two years ago and will continue to do so.\n",
      "Resaurant id: e0DU7_0mfalr-lnyUafiag\n",
      "Restaurant name: Via Vai Trattoria Pizzeria\n",
      "==================================\n"
     ]
    },
    {
     "data": {
      "text/plain": "[('e0DU7_0mfalr-lnyUafiag',\n  'Delicious authentic Italian food, friendly and professional waitstaff. Portions are not huge (but do we really need that much pasta anyway? ). Nice yet comfortable atmosphere and kid friendly. We have been going to Via Vai since we moved to the area almost two years ago and will continue to do so.')]"
     },
     "execution_count": 13,
     "metadata": {},
     "output_type": "execute_result"
    }
   ],
   "source": [
    "# 4. output reviews and restaurants\n",
    "def most_similar_recommendations(most_similar_res, input_asp):\n",
    "    # in the aspect dataframe aspect_df, only get reviews for most similar restaurant. For these review, filter input aspect with \"Positive\" and high confidence score\n",
    "    input_asp = \"_\".join(input_asp.lower().strip().split(\" \"))\n",
    "    temp = df[(df['business_id'].isin(most_similar_res)) & (df[input_asp + '_label'] == 'Positive')].sort_values(by=input_asp + '_score', ascending=False)\n",
    "    # get the top 10 reviews with their restaurant_id and text review\n",
    "    top_10_tuples = [(row['business_id'], row['text']) for index, row in temp.head(10).iterrows()]\n",
    "    for tuple in top_10_tuples:\n",
    "        print(\"Review: {}\".format(tuple[1]))\n",
    "        print(\"Resaurant id: {}\".format(tuple[0]))\n",
    "        print(\"Restaurant name: {}\".format(get_resaurant_name_by_id(tuple[0])))\n",
    "        print(\"==================================\")\n",
    "    return top_10_tuples\n",
    "most_similar_recommendations(most_similar_res, input_asp)"
   ],
   "metadata": {
    "collapsed": false,
    "ExecuteTime": {
     "end_time": "2024-04-07T17:11:47.085095Z",
     "start_time": "2024-04-07T17:11:47.066078Z"
    }
   },
   "id": "b7d788815e2a56d2",
   "execution_count": 13
  },
  {
   "cell_type": "markdown",
   "source": [
    "#### 4. Recommender Function for reviews \n",
    "input the restaurant id and aspect name, will get positive feedbacks from most similar restaurants"
   ],
   "metadata": {
    "collapsed": false
   },
   "id": "12bf89eacf7def10"
  },
  {
   "cell_type": "code",
   "outputs": [],
   "source": [
    "def get_reviews_recommender(res_id, asp):\n",
    "    \"\"\"\"\n",
    "    This function accept a restaurant id and aspect owners care about, \n",
    "    return 10 reviews with positive and high confidence score from similar restaurants.\n",
    "    \n",
    "    \"\"\"\n",
    "    #1. Filter rest by price range\n",
    "    filtered_res = filter_restaurants_by_price(res_id)\n",
    "    \n",
    "    filtered_res['corpus'] = filtered_res.apply(create_corpus, axis=1)\n",
    "    filtered_res.reset_index(inplace=True)\n",
    "    \n",
    "    indices = pd.Series(filtered_res.index, index=filtered_res['business_id']).drop_duplicates()\n",
    "    \n",
    "    \n",
    "    # 2.Compute the Cosine Similarity matrix based on the count_matrix\n",
    "    cosine_sim = computer_cosine_sim_matrix(filtered_res['corpus'])\n",
    "    \n",
    "    # 3. get most similar restaurants for the target restaurant\n",
    "    most_similar_res = similar_restaurants(indices, cosine_sim, res_id, filtered_res)\n",
    "    print(most_similar_recommendations(most_similar_res, asp))\n",
    "    \n",
    "   # 4. Output result\n",
    "    \n",
    "    # return most_similar_recommendations(most_similar_res, asp)"
   ],
   "metadata": {
    "collapsed": false,
    "ExecuteTime": {
     "end_time": "2024-04-07T17:11:47.085508Z",
     "start_time": "2024-04-07T17:11:47.072065Z"
    }
   },
   "id": "27e9652ac2b89048",
   "execution_count": 14
  },
  {
   "cell_type": "code",
   "outputs": [
    {
     "name": "stdout",
     "output_type": "stream",
     "text": [
      "There are 26 similar unique restaurants found\n",
      "Review: I love Joe's on a weekend evening! It's a great place to start the night. They make stiff drinks and the social scene is popping. Frankie is the BEST bartender! You're in great hands and great company if you hang with him at the bar. This is a great local spot if you're looking to meet new people and enjoy a lively atmosphere.\n",
      "Resaurant id: nB0dV8yPv29F3-CFMPG8cw\n",
      "Restaurant name: Joe's Cafe\n",
      "==================================\n",
      "Review: One of Santa Barbara's best places. \n",
      " Playful, delicious food. Very nice service. Good cocktails and wine/beer selection. \n",
      "For breakfast,  their  lemon ricotta pancakes are lovely ( but not available for brunch). \n",
      " \n",
      "Comfortable and elegant, the atmosphere is perfect for a date, a solo lunch,  a meeting, or a big group.\n",
      "Resaurant id: -FM4CxOg4XXmX_Ebky_SiQ\n",
      "Restaurant name: Finch & Fork\n",
      "==================================\n",
      "Review: Amazing food and the sweetest waitress! Only bad comment was the bloody Mary's weren't good but the food and atmosphere made up for it!\n",
      "Resaurant id: W7gSJz80DywKnPRIGjA2Bw\n",
      "Restaurant name: Derf's Cafe\n",
      "==================================\n",
      "Review: Delicious breakfast and a friendly staff. Super clean. Yummy pastries and fresh squeezed juice. Lovely atmosphere. Coffee looks good but is not very tasty.\n",
      "Resaurant id: iMTjejk6apJKzCukZnDw5A\n",
      "Restaurant name: Jeannine's Bakery & Restaurant\n",
      "==================================\n",
      "Review: Finch & fork has THE best service. \n",
      "Service dogs are allowed but not pet, but finch & fork were so accommodating to us ( my boyfriend, myself and out dog).\n",
      "\n",
      "Always checked on us to see if we needed anything else. Always had a smile while serving us. \n",
      "\n",
      "The food was the best! My boyfriend had the fried chicken sandwich and I had the chicken kale salad.\n",
      "\n",
      "All around the best restaurant and service!\n",
      "Resaurant id: -FM4CxOg4XXmX_Ebky_SiQ\n",
      "Restaurant name: Finch & Fork\n",
      "==================================\n",
      "Review: Everything here was pretty solid. The breakfast quesadilla was yum and so were the pancakes, but nothing was really that special. The complimentary muffins were ok. This is definitely popular for the history/legacy and the atmosphere which is pleasant.\n",
      "Resaurant id: FEBwxZMEpxRwVXx9Fm0XZw\n",
      "Restaurant name: Chad's\n",
      "==================================\n",
      "Review: A classic breakfast joint! I have been here before and recommended it this past time in Santa Barbara. I did not regret the decision yet again. I believe our waiter's name was Anthony and he was awesome! He had clear knowledge of the menu and made us feel at home. I ordered the huevos rancheros and it was the perfect portion that had me feeling satiated but not stuffed. And I swear, diner coffee is the best coffee. Nothing can quite compare!\n",
      "Resaurant id: nB0dV8yPv29F3-CFMPG8cw\n",
      "Restaurant name: Joe's Cafe\n",
      "==================================\n",
      "Review: Their drinks score a solid 5 as does the ambiance and history of the place. Growing up I could never figure out why my parents like the place, then I turned 21 and ordered my first Joe's cocktail and everything made sense.\n",
      "\n",
      "I think their beef dip is as good as it gets and their spagetti is the real deal. No matter, I will have another one of their stiff drinks...\n",
      "Resaurant id: nB0dV8yPv29F3-CFMPG8cw\n",
      "Restaurant name: Joe's Cafe\n",
      "==================================\n",
      "Review: Amazing Santa Barbara restaurant.\n",
      "\n",
      "My favorite to go to.\n",
      "\n",
      "Order the Ahi-Tuna Tartar...\n",
      ":o\n",
      "Resaurant id: 3lty2YUwjp61iUqNgKVEMw\n",
      "Restaurant name: Marmalade Cafe\n",
      "==================================\n",
      "Review: This restaurant has such a great view (don't eat inside especially in the morning) and so far the food. I ordered Santa Barbara omelet. It has avocado in the top of it. I recommend it for an early morning breakfast.\n",
      "Resaurant id: FEBwxZMEpxRwVXx9Fm0XZw\n",
      "Restaurant name: Chad's\n",
      "==================================\n",
      "[('nB0dV8yPv29F3-CFMPG8cw', \"I love Joe's on a weekend evening! It's a great place to start the night. They make stiff drinks and the social scene is popping. Frankie is the BEST bartender! You're in great hands and great company if you hang with him at the bar. This is a great local spot if you're looking to meet new people and enjoy a lively atmosphere.\"), ('-FM4CxOg4XXmX_Ebky_SiQ', \"One of Santa Barbara's best places. \\n Playful, delicious food. Very nice service. Good cocktails and wine/beer selection. \\nFor breakfast,  their  lemon ricotta pancakes are lovely ( but not available for brunch). \\n \\nComfortable and elegant, the atmosphere is perfect for a date, a solo lunch,  a meeting, or a big group.\"), ('W7gSJz80DywKnPRIGjA2Bw', \"Amazing food and the sweetest waitress! Only bad comment was the bloody Mary's weren't good but the food and atmosphere made up for it!\"), ('iMTjejk6apJKzCukZnDw5A', 'Delicious breakfast and a friendly staff. Super clean. Yummy pastries and fresh squeezed juice. Lovely atmosphere. Coffee looks good but is not very tasty.'), ('-FM4CxOg4XXmX_Ebky_SiQ', 'Finch & fork has THE best service. \\nService dogs are allowed but not pet, but finch & fork were so accommodating to us ( my boyfriend, myself and out dog).\\n\\nAlways checked on us to see if we needed anything else. Always had a smile while serving us. \\n\\nThe food was the best! My boyfriend had the fried chicken sandwich and I had the chicken kale salad.\\n\\nAll around the best restaurant and service!'), ('FEBwxZMEpxRwVXx9Fm0XZw', 'Everything here was pretty solid. The breakfast quesadilla was yum and so were the pancakes, but nothing was really that special. The complimentary muffins were ok. This is definitely popular for the history/legacy and the atmosphere which is pleasant.'), ('nB0dV8yPv29F3-CFMPG8cw', \"A classic breakfast joint! I have been here before and recommended it this past time in Santa Barbara. I did not regret the decision yet again. I believe our waiter's name was Anthony and he was awesome! He had clear knowledge of the menu and made us feel at home. I ordered the huevos rancheros and it was the perfect portion that had me feeling satiated but not stuffed. And I swear, diner coffee is the best coffee. Nothing can quite compare!\"), ('nB0dV8yPv29F3-CFMPG8cw', \"Their drinks score a solid 5 as does the ambiance and history of the place. Growing up I could never figure out why my parents like the place, then I turned 21 and ordered my first Joe's cocktail and everything made sense.\\n\\nI think their beef dip is as good as it gets and their spagetti is the real deal. No matter, I will have another one of their stiff drinks...\"), ('3lty2YUwjp61iUqNgKVEMw', 'Amazing Santa Barbara restaurant.\\n\\nMy favorite to go to.\\n\\nOrder the Ahi-Tuna Tartar...\\n:o'), ('FEBwxZMEpxRwVXx9Fm0XZw', \"This restaurant has such a great view (don't eat inside especially in the morning) and so far the food. I ordered Santa Barbara omelet. It has avocado in the top of it. I recommend it for an early morning breakfast.\")]\n"
     ]
    }
   ],
   "source": [
    "get_reviews_recommender('zu4p6IZLSVn2Noto-vcwzw', 'atmosphere')"
   ],
   "metadata": {
    "collapsed": false,
    "ExecuteTime": {
     "end_time": "2024-04-07T17:11:47.114404Z",
     "start_time": "2024-04-07T17:11:47.078892Z"
    }
   },
   "id": "26b5001da91fd3fc",
   "execution_count": 15
  },
  {
   "cell_type": "code",
   "outputs": [
    {
     "name": "stdout",
     "output_type": "stream",
     "text": [
      "There are 26 similar unique restaurants found\n",
      "Review: Amazing food--seasoned hasbrowns, loaded baked potato hash, blueberry pancakes...\n",
      "\n",
      "Can be busy as it is a small place, difficult for groups bigger than 4. Aggressive self seating. Worth the wait.\n",
      "Resaurant id: 5vObJIHLO-QOMrw_MvC4rA\n",
      "Restaurant name: The Worker Bee Cafe\n",
      "==================================\n",
      "Review: Short Rib and Sweet Potato Hash Breakfast!!\n",
      "\n",
      "We were returning back from the bay area and the little one found this place on Yelp. The restaurant itself sits inside a hotel. It was early and no wait whatsoever. We parked out front on the street and were eating within fifteen minutes.\n",
      "\n",
      "~Short Rib and Sweet Potato Hash- 4 Stars!\n",
      "The meat was super tender and juicy. The sweet potato hash, while very tasty, was dry. It was a little too dry. The dish will run you close to $20. Would I order this again? Maybe. The menu has several items I wanted to try.\n",
      "\n",
      "~Kids Menu\n",
      "The little one had French toast..of course! She liked it but it looked average to me.\n",
      "\n",
      "~Servicer- 5 Stars!\n",
      "Fast, Courteous, and Attentive! I had not a single problem with service!\n",
      "\n",
      "~Parking-I actually am unsure where to park. However, it was early enough that there was free street parking right in front of the hotel. The restaurant is easily accessible from the street or from the inside of the hotel. Easy access on and off the 101 also.\n",
      "\n",
      "Overall, I am a fan!\n",
      "Resaurant id: -FM4CxOg4XXmX_Ebky_SiQ\n",
      "Restaurant name: Finch & Fork\n",
      "==================================\n",
      "Review: Back for some more! Artisan coffee, pastries and cute welcoming place. Their home made biscuits and gravy are truly amazing. The huevos rancheros to die for. Small place so be prepared to wait, with it though.\n",
      "Resaurant id: iMTjejk6apJKzCukZnDw5A\n",
      "Restaurant name: Jeannine's Bakery & Restaurant\n",
      "==================================\n",
      "Review: Nice quiet patio dining with views of the beach. Our waiter was friendly and efficient. Little choc chip muffins were a nice surprise before getting our food. Ordered French toast and the Huevos Rancheros special. Huevos were flavorful. French toast was average. Good portions. Friendly staff.\n",
      "Resaurant id: FEBwxZMEpxRwVXx9Fm0XZw\n",
      "Restaurant name: Chad's\n",
      "==================================\n",
      "Review: I'm giving the restaurant a 3.5 & the lounge a 4. I actually did not eat in the restaurant. I was staying at the Best Western adjacent to the restaurant & they do the room service for them. On day one we ordered room service for breakfast. It was your standard scrambled eggs, bacon, toast & fruit. I had no complaints with breakfast, but my wife didn't like the scrambled eggs. Bacon, well, it's hard to mess that up and the fruit & toast were fine. \n",
      "\n",
      "The following night I went into the restaurant and ordered a Cobb salad, burger & fries to go. Again, not difficult to prepare and even more difficult to screw up. My wife & I were both pleased with our meals. Their service was fantastic. The manager and waitstaff was very friendly. \n",
      "\n",
      "I visited the lounge a few times over the weekend for a quick drink with my family members, since we were in Santa Barbara for a wedding. The drinks were good and the bar tenders were great. I don't remember the woman bar tender's name, but she stayed after the restaurant staff had gone home, so we could keep enjoying our cocktails and spending some QT with family members. My family's spread all across the country & we don't see each other that often, so it was really appreciated that she did this.\n",
      "Resaurant id: lnGHZ_pEJNGT9pcGQ467Ew\n",
      "Restaurant name: Treehouse Restaurant\n",
      "==================================\n",
      "Review: Stayed at the hotel and had most of our meals there. First I have to say that the service is FANTASTIC! From the moment you walk in until your seated the servers are extremely attentive and friendly. We were there with our 2 year old and she was acknowledged and was made to feel very comfortable. That's extremely important to us that she's made to feel welcomed just as the adults are which was very apparent here. The waiter also suggested plates that were spot on and delicious!\n",
      "I know other reviewers already mentioned it, but I have to mention it again since the scallops are amazing! They need to have there own review! They were cooked perfectly and were paired with a horseradish vinaigrette. They only thing I wish was that there were more of these yummy little guys! 4 is great but 5 would be better. \n",
      "Pork chop was equally as delicious and were paired with a very delicious compote and a butternut squash mash.\n",
      "Kids menu looked good but your better off ordering the appetizer portions instead of the kids menu. I asked the waiter if the Mac and Cheese was \"real cheese\" and he said it was velveta type cheese. For my foodie 2 year old that would not cut it. He did mention that if I ordered the appetizer Mac and Cheese it would be actual aged cheese. This to us sounds like the better choice and our little one agreed. \n",
      "We did also try the deviled eggs as a starter but personally for us they didn't work. This is something we wanted to try but unless you Love eggs I'm sure there is something else you can try.\n",
      "\n",
      "Of course since they have impeccable service we were offered desert on the house since they knew we were celebrating! We chose the lavender honey Crème brûlée and it did not disappoint. \n",
      "Overall the service, food, and drinks are impeccable. If your visiting Santa Barbara I suggest you eat there for at least one meal.\n",
      "Resaurant id: -FM4CxOg4XXmX_Ebky_SiQ\n",
      "Restaurant name: Finch & Fork\n",
      "==================================\n",
      "Review: After reading Angelo's review and knowing I was going to be visiting Santa Barbara, I decided to visit Tupelo Junction.  I was there for the late afternoon time about an hour before closing.  There was a large festival going on outside, tons of well-dressed people going to a theater event just outside the door, and yet despite this, there were not a lot of people in the cafe.\n",
      "\n",
      "It's not a good sign that an eatery would be nearly empty with a crowd outside, but I figured it's the end of the day and that's probably why.\n",
      "\n",
      "Our amazingly attractive waitress Rachel helped us with our order (\"My pleasure,\" she says).  We both ordered a salad (can't remember the name of it right now!) and the greens were quite fresh with a vinagrette dressing.  There were no choices on dressings though -- it's vinagrette or nothing, I guess. \n",
      "\n",
      "I loved the little biscuits!  Tasted like pancakes! \n",
      "\n",
      "The water drinks use little mason jars.  I noticed this in other places throughout Central CA; little mason jars seem to be the \"in\" thing. \n",
      "\n",
      "After this brunch I ordered the apple pie and ice cream.  And then waited.  And waited.  And waited.  After a friendly reminder to the waitress, it finally arrived.  Realize that the dining area was nearly EMPTY so there's really no excuse. \n",
      "\n",
      "Pros:  Delicious salads and dessert, friendly staff.  And those biscuits and the ambiance (the cute tables and chairs, the posters, the colorful water cans and so on). \n",
      "\n",
      "Cons:  Waiting forever for a dessert.  Oh, also there was another server gossiping on her cell phone just inside the dining room.  Woman, take the call outside, not where customers can hear you! \n",
      "\n",
      "Somewhat recommended if you got nowhere else to go on State Street!\n",
      "Resaurant id: 0WrdiQ4qJBu2Gc7wRcIfdw\n",
      "Restaurant name: Tupelo Junction Cafe\n",
      "==================================\n",
      "Review: I wish I could rate this so much higher!! The food was amazing. My Bloody Mary was perfection. The host was a super sweet, cool dude. Went in with a great first impression. It took a super long time for our waitress to check in with us or even offer us water. We finally had to ask the host if anyone knew we were seated in the corner. Our waitress wasn't apologetic at all. She moved fast but I don't know what she was doing exactly. The outside was moderately busy but there wasn't many of us in the inside dining area. It was a beautiful Saturday morning and again the food !! Every interaction with our waitress was ok but it was probably the longest meal we've ever had because there was such a gap in her timing. Service is so important.\n",
      "Resaurant id: DBtNuEt5U_dXoalpU8rbcQ\n",
      "Restaurant name: Outpost\n",
      "==================================\n",
      "[('5vObJIHLO-QOMrw_MvC4rA', 'Amazing food--seasoned hasbrowns, loaded baked potato hash, blueberry pancakes...\\n\\nCan be busy as it is a small place, difficult for groups bigger than 4. Aggressive self seating. Worth the wait.'), ('-FM4CxOg4XXmX_Ebky_SiQ', 'Short Rib and Sweet Potato Hash Breakfast!!\\n\\nWe were returning back from the bay area and the little one found this place on Yelp. The restaurant itself sits inside a hotel. It was early and no wait whatsoever. We parked out front on the street and were eating within fifteen minutes.\\n\\n~Short Rib and Sweet Potato Hash- 4 Stars!\\nThe meat was super tender and juicy. The sweet potato hash, while very tasty, was dry. It was a little too dry. The dish will run you close to $20. Would I order this again? Maybe. The menu has several items I wanted to try.\\n\\n~Kids Menu\\nThe little one had French toast..of course! She liked it but it looked average to me.\\n\\n~Servicer- 5 Stars!\\nFast, Courteous, and Attentive! I had not a single problem with service!\\n\\n~Parking-I actually am unsure where to park. However, it was early enough that there was free street parking right in front of the hotel. The restaurant is easily accessible from the street or from the inside of the hotel. Easy access on and off the 101 also.\\n\\nOverall, I am a fan!'), ('iMTjejk6apJKzCukZnDw5A', 'Back for some more! Artisan coffee, pastries and cute welcoming place. Their home made biscuits and gravy are truly amazing. The huevos rancheros to die for. Small place so be prepared to wait, with it though.'), ('FEBwxZMEpxRwVXx9Fm0XZw', 'Nice quiet patio dining with views of the beach. Our waiter was friendly and efficient. Little choc chip muffins were a nice surprise before getting our food. Ordered French toast and the Huevos Rancheros special. Huevos were flavorful. French toast was average. Good portions. Friendly staff.'), ('lnGHZ_pEJNGT9pcGQ467Ew', \"I'm giving the restaurant a 3.5 & the lounge a 4. I actually did not eat in the restaurant. I was staying at the Best Western adjacent to the restaurant & they do the room service for them. On day one we ordered room service for breakfast. It was your standard scrambled eggs, bacon, toast & fruit. I had no complaints with breakfast, but my wife didn't like the scrambled eggs. Bacon, well, it's hard to mess that up and the fruit & toast were fine. \\n\\nThe following night I went into the restaurant and ordered a Cobb salad, burger & fries to go. Again, not difficult to prepare and even more difficult to screw up. My wife & I were both pleased with our meals. Their service was fantastic. The manager and waitstaff was very friendly. \\n\\nI visited the lounge a few times over the weekend for a quick drink with my family members, since we were in Santa Barbara for a wedding. The drinks were good and the bar tenders were great. I don't remember the woman bar tender's name, but she stayed after the restaurant staff had gone home, so we could keep enjoying our cocktails and spending some QT with family members. My family's spread all across the country & we don't see each other that often, so it was really appreciated that she did this.\"), ('-FM4CxOg4XXmX_Ebky_SiQ', 'Stayed at the hotel and had most of our meals there. First I have to say that the service is FANTASTIC! From the moment you walk in until your seated the servers are extremely attentive and friendly. We were there with our 2 year old and she was acknowledged and was made to feel very comfortable. That\\'s extremely important to us that she\\'s made to feel welcomed just as the adults are which was very apparent here. The waiter also suggested plates that were spot on and delicious!\\nI know other reviewers already mentioned it, but I have to mention it again since the scallops are amazing! They need to have there own review! They were cooked perfectly and were paired with a horseradish vinaigrette. They only thing I wish was that there were more of these yummy little guys! 4 is great but 5 would be better. \\nPork chop was equally as delicious and were paired with a very delicious compote and a butternut squash mash.\\nKids menu looked good but your better off ordering the appetizer portions instead of the kids menu. I asked the waiter if the Mac and Cheese was \"real cheese\" and he said it was velveta type cheese. For my foodie 2 year old that would not cut it. He did mention that if I ordered the appetizer Mac and Cheese it would be actual aged cheese. This to us sounds like the better choice and our little one agreed. \\nWe did also try the deviled eggs as a starter but personally for us they didn\\'t work. This is something we wanted to try but unless you Love eggs I\\'m sure there is something else you can try.\\n\\nOf course since they have impeccable service we were offered desert on the house since they knew we were celebrating! We chose the lavender honey Crème brûlée and it did not disappoint. \\nOverall the service, food, and drinks are impeccable. If your visiting Santa Barbara I suggest you eat there for at least one meal.'), ('0WrdiQ4qJBu2Gc7wRcIfdw', 'After reading Angelo\\'s review and knowing I was going to be visiting Santa Barbara, I decided to visit Tupelo Junction.  I was there for the late afternoon time about an hour before closing.  There was a large festival going on outside, tons of well-dressed people going to a theater event just outside the door, and yet despite this, there were not a lot of people in the cafe.\\n\\nIt\\'s not a good sign that an eatery would be nearly empty with a crowd outside, but I figured it\\'s the end of the day and that\\'s probably why.\\n\\nOur amazingly attractive waitress Rachel helped us with our order (\"My pleasure,\" she says).  We both ordered a salad (can\\'t remember the name of it right now!) and the greens were quite fresh with a vinagrette dressing.  There were no choices on dressings though -- it\\'s vinagrette or nothing, I guess. \\n\\nI loved the little biscuits!  Tasted like pancakes! \\n\\nThe water drinks use little mason jars.  I noticed this in other places throughout Central CA; little mason jars seem to be the \"in\" thing. \\n\\nAfter this brunch I ordered the apple pie and ice cream.  And then waited.  And waited.  And waited.  After a friendly reminder to the waitress, it finally arrived.  Realize that the dining area was nearly EMPTY so there\\'s really no excuse. \\n\\nPros:  Delicious salads and dessert, friendly staff.  And those biscuits and the ambiance (the cute tables and chairs, the posters, the colorful water cans and so on). \\n\\nCons:  Waiting forever for a dessert.  Oh, also there was another server gossiping on her cell phone just inside the dining room.  Woman, take the call outside, not where customers can hear you! \\n\\nSomewhat recommended if you got nowhere else to go on State Street!'), ('DBtNuEt5U_dXoalpU8rbcQ', \"I wish I could rate this so much higher!! The food was amazing. My Bloody Mary was perfection. The host was a super sweet, cool dude. Went in with a great first impression. It took a super long time for our waitress to check in with us or even offer us water. We finally had to ask the host if anyone knew we were seated in the corner. Our waitress wasn't apologetic at all. She moved fast but I don't know what she was doing exactly. The outside was moderately busy but there wasn't many of us in the inside dining area. It was a beautiful Saturday morning and again the food !! Every interaction with our waitress was ok but it was probably the longest meal we've ever had because there was such a gap in her timing. Service is so important.\")]\n"
     ]
    }
   ],
   "source": [
    "get_reviews_recommender('zu4p6IZLSVn2Noto-vcwzw', 'waiting_time')"
   ],
   "metadata": {
    "collapsed": false,
    "ExecuteTime": {
     "end_time": "2024-04-07T17:11:47.115270Z",
     "start_time": "2024-04-07T17:11:47.095858Z"
    }
   },
   "id": "bc5d1e87f5847e39",
   "execution_count": 16
  },
  {
   "cell_type": "code",
   "outputs": [],
   "source": [],
   "metadata": {
    "collapsed": false,
    "ExecuteTime": {
     "end_time": "2024-04-07T17:11:47.115328Z",
     "start_time": "2024-04-07T17:11:47.103267Z"
    }
   },
   "id": "8bccb9eba2b007b5",
   "execution_count": 16
  }
 ],
 "metadata": {
  "kernelspec": {
   "display_name": "Python 3",
   "language": "python",
   "name": "python3"
  },
  "language_info": {
   "codemirror_mode": {
    "name": "ipython",
    "version": 2
   },
   "file_extension": ".py",
   "mimetype": "text/x-python",
   "name": "python",
   "nbconvert_exporter": "python",
   "pygments_lexer": "ipython2",
   "version": "2.7.6"
  }
 },
 "nbformat": 4,
 "nbformat_minor": 5
}
