{
  "cells": [
    {
      "cell_type": "code",
      "execution_count": null,
      "id": "5d440bc9-8526-4532-8126-94188dcd41dd",
      "metadata": {
        "id": "5d440bc9-8526-4532-8126-94188dcd41dd"
      },
      "outputs": [],
      "source": [
        "pip install setfit"
      ]
    },
    {
      "cell_type": "code",
      "execution_count": null,
      "id": "ed38db62-2707-41d4-b1be-90ec6ee7c787",
      "metadata": {
        "id": "ed38db62-2707-41d4-b1be-90ec6ee7c787"
      },
      "outputs": [],
      "source": [
        "pip install spacy"
      ]
    },
    {
      "cell_type": "code",
      "execution_count": null,
      "id": "9555ad2e-f7f4-4611-a337-ecbc75fafad9",
      "metadata": {
        "id": "9555ad2e-f7f4-4611-a337-ecbc75fafad9"
      },
      "outputs": [],
      "source": [
        "!spacy download en_core_web_sm"
      ]
    },
    {
      "cell_type": "code",
      "source": [
        "# pip install -U  transformers"
      ],
      "metadata": {
        "id": "-_BcAS0XVdwk"
      },
      "id": "-_BcAS0XVdwk",
      "execution_count": null,
      "outputs": []
    },
    {
      "cell_type": "code",
      "source": [
        "# !nvidia-smi"
      ],
      "metadata": {
        "id": "1NvLEz-dYeRH"
      },
      "id": "1NvLEz-dYeRH",
      "execution_count": null,
      "outputs": []
    },
    {
      "cell_type": "code",
      "source": [
        "# chekc if cuda is available\n",
        "# import torch\n",
        "# torch.cuda.is_available()"
      ],
      "metadata": {
        "id": "VX1sWC8bYlt0"
      },
      "id": "VX1sWC8bYlt0",
      "execution_count": null,
      "outputs": []
    },
    {
      "cell_type": "code",
      "execution_count": null,
      "id": "45583a6c-e8da-43a3-a5a0-80f208b2a06f",
      "metadata": {
        "id": "45583a6c-e8da-43a3-a5a0-80f208b2a06f"
      },
      "outputs": [],
      "source": [
        "from datasets import load_dataset\n",
        "\n",
        "dataset = load_dataset(\"ginkgogo/ca_restaurants_random_sample\", split=\"train\")\n",
        "\n",
        "train_dataset = dataset.select(range(50))\n",
        "eval_dataset = dataset.select(range(50, 102))"
      ]
    },
    {
      "cell_type": "code",
      "source": [
        "train_dataset"
      ],
      "metadata": {
        "id": "SLIWAXvorYQf"
      },
      "id": "SLIWAXvorYQf",
      "execution_count": null,
      "outputs": []
    },
    {
      "cell_type": "code",
      "source": [
        "eval_dataset"
      ],
      "metadata": {
        "id": "s2zEMPxprbq4"
      },
      "id": "s2zEMPxprbq4",
      "execution_count": null,
      "outputs": []
    },
    {
      "cell_type": "code",
      "execution_count": null,
      "id": "16bd84c9-7187-46d7-b96b-439a363a45b0",
      "metadata": {
        "id": "16bd84c9-7187-46d7-b96b-439a363a45b0"
      },
      "outputs": [],
      "source": [
        "from setfit import AbsaModel\n",
        "\n",
        "model = AbsaModel.from_pretrained(\n",
        "    \"sentence-transformers/all-MiniLM-L6-v2\",\n",
        "    \"sentence-transformers/all-mpnet-base-v2\",\n",
        "    spacy_model=\"en_core_web_sm\",\n",
        ")"
      ]
    },
    {
      "cell_type": "code",
      "execution_count": null,
      "id": "232260c6-e858-42bd-b96d-101667e5c8e0",
      "metadata": {
        "id": "232260c6-e858-42bd-b96d-101667e5c8e0"
      },
      "outputs": [],
      "source": [
        "from setfit import SetFitModel, Trainer, TrainingArguments, sample_dataset, AbsaTrainer\n",
        "from transformers import EarlyStoppingCallback\n",
        "\n",
        "args = TrainingArguments(\n",
        "    output_dir=\"models\",\n",
        "    num_epochs=5,\n",
        "    use_amp=True,\n",
        "    batch_size=50,\n",
        "    evaluation_strategy=\"steps\",\n",
        "    eval_steps=50,\n",
        "    save_steps=50,\n",
        "    load_best_model_at_end=True,\n",
        ")\n",
        "\n",
        "trainer = AbsaTrainer(\n",
        "    model,\n",
        "    args=args,\n",
        "    train_dataset=train_dataset,\n",
        "    eval_dataset=eval_dataset,\n",
        "    callbacks=[EarlyStoppingCallback(early_stopping_patience=5)],\n",
        ")\n",
        "trainer.train()"
      ]
    },
    {
      "cell_type": "code",
      "source": [],
      "metadata": {
        "id": "JZc75Xv1XVRZ"
      },
      "id": "JZc75Xv1XVRZ",
      "execution_count": null,
      "outputs": []
    },
    {
      "cell_type": "code",
      "source": [
        "metrics = trainer.evaluate(eval_dataset)\n",
        "print(metrics)"
      ],
      "metadata": {
        "id": "T-TNnSBAkpR8"
      },
      "id": "T-TNnSBAkpR8",
      "execution_count": null,
      "outputs": []
    },
    {
      "cell_type": "code",
      "source": [
        "pip install -U \"huggingface_hub[cli]\""
      ],
      "metadata": {
        "id": "ROdScmCnmLV-"
      },
      "id": "ROdScmCnmLV-",
      "execution_count": null,
      "outputs": []
    },
    {
      "cell_type": "code",
      "source": [
        "!huggingface-cli login"
      ],
      "metadata": {
        "id": "qKAT6dPtmXYi"
      },
      "id": "qKAT6dPtmXYi",
      "execution_count": null,
      "outputs": []
    },
    {
      "cell_type": "code",
      "source": [
        "# model.save_pretrained(\"models/setfit-absa-model\")\n",
        "# or\n",
        "# model.push_to_hub(\"ginkgogo/setfit-absa-bge-small-en-v1.5-restaurants\")"
      ],
      "metadata": {
        "id": "SN3bKljwlif3"
      },
      "id": "SN3bKljwlif3",
      "execution_count": null,
      "outputs": []
    },
    {
      "cell_type": "code",
      "source": [],
      "metadata": {
        "id": "DxoTmbYG3VTv"
      },
      "id": "DxoTmbYG3VTv",
      "execution_count": null,
      "outputs": []
    },
    {
      "cell_type": "code",
      "source": [
        "from google.colab import drive\n",
        "drive.mount('/content/drive')"
      ],
      "metadata": {
        "id": "5koAApCo_CDi"
      },
      "id": "5koAApCo_CDi",
      "execution_count": null,
      "outputs": []
    },
    {
      "cell_type": "code",
      "source": [
        "!huggingface-cli login"
      ],
      "metadata": {
        "id": "e8vdrAVGps1d"
      },
      "id": "e8vdrAVGps1d",
      "execution_count": null,
      "outputs": []
    },
    {
      "cell_type": "code",
      "source": [],
      "metadata": {
        "id": "e4Lzd1uZka6W"
      },
      "id": "e4Lzd1uZka6W",
      "execution_count": null,
      "outputs": []
    },
    {
      "cell_type": "code",
      "source": [
        "from setfit import AbsaModel\n",
        "\n",
        "# Download from the 🤗 Hub\n",
        "model = AbsaModel.from_pretrained(\n",
        "    \"ginkgogo/setfit-absa-bge-small-en-v1.5-restaurants-aspect\",\n",
        "    \"ginkgogo/setfit-absa-bge-small-en-v1.5-restaurants-polarity\",\n",
        "    spacy_model=\"en_core_web_sm\",\n",
        ")\n",
        "# Run inference\n",
        "preds = model(\"The food was great, but the venue is just way too busy.\")\n"
      ],
      "metadata": {
        "id": "h8Pkp-hqrENK"
      },
      "id": "h8Pkp-hqrENK",
      "execution_count": null,
      "outputs": []
    },
    {
      "cell_type": "code",
      "source": [
        "# print(preds)"
      ],
      "metadata": {
        "id": "AIkCL0SynBQx"
      },
      "id": "AIkCL0SynBQx",
      "execution_count": null,
      "outputs": []
    },
    {
      "cell_type": "code",
      "source": [
        "\n",
        "\n",
        "import pandas as pd\n",
        "\n",
        "df = pd.read_csv(\n",
        "  '/content/drive/MyDrive/699/ca_restaurants.csv'\n",
        ")\n",
        "\n",
        "bus_used_in_train = [234152, 88955, 174286, 228338, 203671, 151156, 88166, 64932, 142804, 210180, 35159, 90839, 137484, 85880, 128479, 92603, 20842, 200330, 175440, 8844, 61777, 3815, 123379, 125840, 180129, 206443, 219869, 101729, 107887, 188230, 244420, 49208, 139902, 242337, 35581, 228649, 44946, 32763, 69556, 152494, 5069963, 3915492, 4486491]\n",
        "\n",
        "random_df_2000 = df.sample(2000)\n",
        "\n",
        "for business in bus_used_in_train:\n",
        "  if business in random_df_2000['business_id']:\n",
        "    random_df_2000.drop(business, inplace=True)\n",
        "\n",
        "\n",
        "print(random_df_2000.shape)"
      ],
      "metadata": {
        "id": "LGXqKnN3rU-b"
      },
      "id": "LGXqKnN3rU-b",
      "execution_count": null,
      "outputs": []
    },
    {
      "cell_type": "code",
      "source": [
        "sentences = list(random_df_2000['text'].str.lower())\n",
        "# sentences\n",
        "preds = model(sentences)"
      ],
      "metadata": {
        "id": "42kb7xANz7oi"
      },
      "id": "42kb7xANz7oi",
      "execution_count": null,
      "outputs": []
    },
    {
      "cell_type": "code",
      "source": [
        "print(preds)\n",
        "print(len(preds))"
      ],
      "metadata": {
        "id": "-nsFgsx_zpNu"
      },
      "id": "-nsFgsx_zpNu",
      "execution_count": null,
      "outputs": []
    },
    {
      "cell_type": "code",
      "source": [
        "aspects_sentiment = []\n",
        "for i in preds:\n",
        "  if len(i) > 0:\n",
        "    aspects_sentiment.append(i)\n",
        "  else:\n",
        "    aspects_sentiment.append('{}')\n",
        "\n",
        "random_df_2000['aspects_sentiment'] = aspects_sentiment"
      ],
      "metadata": {
        "id": "shAW8oCr5B-F"
      },
      "id": "shAW8oCr5B-F",
      "execution_count": null,
      "outputs": []
    },
    {
      "cell_type": "code",
      "source": [],
      "metadata": {
        "id": "6dOycEc33HrN"
      },
      "id": "6dOycEc33HrN",
      "execution_count": null,
      "outputs": []
    },
    {
      "cell_type": "code",
      "source": [
        "def extract(aspect_list):\n",
        "  if isinstance(aspect_list, list):\n",
        "    aspect_dict = {}\n",
        "    for aspect in aspect_list:\n",
        "      aspect_dict[aspect['span']] = aspect['polarity']\n",
        "    return aspect_dict\n"
      ],
      "metadata": {
        "id": "bmcYLrMC8TvY"
      },
      "id": "bmcYLrMC8TvY",
      "execution_count": null,
      "outputs": []
    },
    {
      "cell_type": "code",
      "source": [
        "# for a in aspects_sentiment:\n",
        "#   if len(a) > 1:\n",
        "#     print(a)"
      ],
      "metadata": {
        "id": "sQbmmiGU8CFe"
      },
      "id": "sQbmmiGU8CFe",
      "execution_count": null,
      "outputs": []
    },
    {
      "cell_type": "markdown",
      "source": [],
      "metadata": {
        "id": "gHeRg6wP-YT0"
      },
      "id": "gHeRg6wP-YT0"
    },
    {
      "cell_type": "code",
      "source": [
        "random_df_2000['aspects_sentiment'] = random_df_2000['aspects_sentiment'].apply(extract)"
      ],
      "metadata": {
        "id": "dENJQ9rS68f0"
      },
      "id": "dENJQ9rS68f0",
      "execution_count": null,
      "outputs": []
    },
    {
      "cell_type": "code",
      "source": [
        "# random_df_2000[random_df_2000['aspects_sentiment'] != None]\n"
      ],
      "metadata": {
        "id": "Xu521d48-lNZ"
      },
      "id": "Xu521d48-lNZ",
      "execution_count": null,
      "outputs": []
    },
    {
      "cell_type": "code",
      "source": [
        "random_df_2000.head()"
      ],
      "metadata": {
        "id": "XS0ipP3E-ENY"
      },
      "id": "XS0ipP3E-ENY",
      "execution_count": null,
      "outputs": []
    },
    {
      "cell_type": "code",
      "source": [
        "with_aspect_df = random_df_2000.dropna(subset=['aspects_sentiment'])\n",
        "print(with_aspect_df.shape)"
      ],
      "metadata": {
        "id": "58xQBBYiDmoo"
      },
      "id": "58xQBBYiDmoo",
      "execution_count": null,
      "outputs": []
    },
    {
      "cell_type": "code",
      "source": [
        "random_df_2000['aspects_sentiment'] = random_df_2000['aspects_sentiment'].fillna('{}')"
      ],
      "metadata": {
        "id": "YPWftyda_WBD"
      },
      "id": "YPWftyda_WBD",
      "execution_count": null,
      "outputs": []
    },
    {
      "cell_type": "code",
      "source": [
        "random_df_2000.head()"
      ],
      "metadata": {
        "id": "epW5pJHF_jEj"
      },
      "id": "epW5pJHF_jEj",
      "execution_count": null,
      "outputs": []
    },
    {
      "cell_type": "code",
      "source": [
        "flatten_asepct = pd.json_normalize(random_df_2000['aspects_sentiment'])"
      ],
      "metadata": {
        "id": "zmL2Bxgm_-uU"
      },
      "id": "zmL2Bxgm_-uU",
      "execution_count": null,
      "outputs": []
    },
    {
      "cell_type": "code",
      "source": [
        "aspects = list(flatten_asepct.columns)"
      ],
      "metadata": {
        "id": "ZVInKanCCCsZ"
      },
      "id": "ZVInKanCCCsZ",
      "execution_count": null,
      "outputs": []
    },
    {
      "cell_type": "code",
      "source": [
        "flatten_asepct"
      ],
      "metadata": {
        "id": "0Zq7RKwtB45K"
      },
      "id": "0Zq7RKwtB45K",
      "execution_count": null,
      "outputs": []
    },
    {
      "cell_type": "code",
      "source": [
        "random_df_2000.reset_index(inplace=True)\n",
        "flatten_asepct.reset_index(inplace=True)\n",
        "final_df = pd.concat([random_df_2000, flatten_asepct], axis=1)\n",
        "final_df.head()"
      ],
      "metadata": {
        "id": "dCcbfICk9cDw"
      },
      "id": "dCcbfICk9cDw",
      "execution_count": null,
      "outputs": []
    },
    {
      "cell_type": "code",
      "source": [
        "print(random_df_2000.shape)\n",
        "print(flatten_asepct.shape)"
      ],
      "metadata": {
        "id": "jKgjrm21H6AE"
      },
      "id": "jKgjrm21H6AE",
      "execution_count": null,
      "outputs": []
    },
    {
      "cell_type": "code",
      "source": [],
      "metadata": {
        "id": "_G91_LC2IShc"
      },
      "id": "_G91_LC2IShc",
      "execution_count": null,
      "outputs": []
    },
    {
      "cell_type": "code",
      "source": [
        "final_df.shape"
      ],
      "metadata": {
        "id": "favPPeD3HkLe"
      },
      "id": "favPPeD3HkLe",
      "execution_count": null,
      "outputs": []
    },
    {
      "cell_type": "code",
      "source": [
        "# len(final_df.business_id.unique())"
      ],
      "metadata": {
        "id": "cLhWuToBHFpW"
      },
      "id": "cLhWuToBHFpW",
      "execution_count": null,
      "outputs": []
    },
    {
      "cell_type": "code",
      "source": [
        "with_aspect_df.reset_index(inplace=True)\n",
        "with_aspect_flatten.reset_index(inplace=True)\n",
        "with_aspect_flatten = pd.json_normalize(with_aspect_df['aspects_sentiment'])\n",
        "with_aspect_final_df = pd.concat([with_aspect_df, with_aspect_flatten], axis=1)"
      ],
      "metadata": {
        "id": "JjHZdfqbFhti"
      },
      "id": "JjHZdfqbFhti",
      "execution_count": null,
      "outputs": []
    },
    {
      "cell_type": "code",
      "source": [
        "with_aspect_flatten.shape"
      ],
      "metadata": {
        "id": "YcjDH4XXG3vv"
      },
      "id": "YcjDH4XXG3vv",
      "execution_count": null,
      "outputs": []
    },
    {
      "cell_type": "code",
      "source": [
        "with_aspect_df.shape"
      ],
      "metadata": {
        "id": "qHuHWjiFGsF2"
      },
      "id": "qHuHWjiFGsF2",
      "execution_count": null,
      "outputs": []
    },
    {
      "cell_type": "code",
      "source": [
        "with_aspect_final_df.shape"
      ],
      "metadata": {
        "id": "B5g2KgBkGmIw"
      },
      "id": "B5g2KgBkGmIw",
      "execution_count": null,
      "outputs": []
    },
    {
      "cell_type": "code",
      "source": [
        "with_aspect_final_df.head()"
      ],
      "metadata": {
        "id": "GiRJfJBJF209"
      },
      "id": "GiRJfJBJF209",
      "execution_count": null,
      "outputs": []
    },
    {
      "cell_type": "code",
      "source": [
        "# with_aspect_final_df.to_csv('with_aspect_from_random_2k.csv')\n",
        "# !cp with_aspect_from_random_2k.csv '/content/drive/MyDrive/699/'"
      ],
      "metadata": {
        "id": "YOf2NrBMCMKX"
      },
      "id": "YOf2NrBMCMKX",
      "execution_count": null,
      "outputs": []
    },
    {
      "cell_type": "code",
      "source": [
        "# final_df.to_csv('random_2k.csv')\n",
        "# !cp random_2k.csv '/content/drive/MyDrive/699/'"
      ],
      "metadata": {
        "id": "Geo8liLoE5VK"
      },
      "id": "Geo8liLoE5VK",
      "execution_count": null,
      "outputs": []
    },
    {
      "cell_type": "code",
      "source": [
        "import pandas as pd\n",
        "out = pd.read_csv('/content/drive/MyDrive/699/with_aspect_from_random_2k.csv')\n",
        "out.head()"
      ],
      "metadata": {
        "id": "bAPylHy3FIqh"
      },
      "id": "bAPylHy3FIqh",
      "execution_count": null,
      "outputs": []
    },
    {
      "cell_type": "code",
      "source": [
        "out_random = pd.read_csv('/content/drive/MyDrive/699/random_2k.csv')\n",
        "out_random.shape"
      ],
      "metadata": {
        "id": "ZlF0fBiPJEgT"
      },
      "id": "ZlF0fBiPJEgT",
      "execution_count": null,
      "outputs": []
    }
  ],
  "metadata": {
    "kernelspec": {
      "display_name": "Python 3",
      "name": "python3"
    },
    "language_info": {
      "codemirror_mode": {
        "name": "ipython",
        "version": 3
      },
      "file_extension": ".py",
      "mimetype": "text/x-python",
      "name": "python",
      "nbconvert_exporter": "python",
      "pygments_lexer": "ipython3",
      "version": "3.8.8"
    },
    "colab": {
      "provenance": [],
      "gpuType": "V100"
    },
    "accelerator": "GPU"
  },
  "nbformat": 4,
  "nbformat_minor": 5
}